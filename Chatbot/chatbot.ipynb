{
 "cells": [
  {
   "cell_type": "code",
   "execution_count": null,
   "id": "b02b7b22",
   "metadata": {},
   "outputs": [],
   "source": [
    "import random\n",
    "\n",
    "responses = {\n",
    "    \"hello\": [\"Hello!\", \"Hi there!\", \"Greetings!\"],\n",
    "    \"how are you\": [\"I'm doing well, thank you!\", \"I'm fine, how about you?\"],\n",
    "    \"goodbye\": [\"Goodbye!\", \"See you later!\", \"Farewell!\"],\n",
    "    \"default\": [\"I'm sorry, I didn't understand.\", \"Could you please rephrase that?\"]\n",
    "}\n",
    "\n",
    "def get_response(user_input):\n",
    "    user_input = user_input.lower()\n",
    "    for key in responses:\n",
    "        if key in user_input:\n",
    "            return random.choice(responses[key])\n",
    "    return random.choice(responses[\"default\"])\n",
    "def chatbot():\n",
    "    print(\"chatbot:Hi how can i help you\")\n",
    "    while True:\n",
    "        user_input=input(\"User:\").lower()\n",
    "        response=get_response(user_input)\n",
    "        print(\"chatbot:\",response)\n",
    "        if user_input==\"goodbye\":\n",
    "            break\n"
   ]
  },
  {
   "cell_type": "code",
   "execution_count": 3,
   "id": "1dd9eede",
   "metadata": {},
   "outputs": [
    {
     "data": {
      "text/plain": [
       "<function __main__.chatbot()>"
      ]
     },
     "execution_count": 3,
     "metadata": {},
     "output_type": "execute_result"
    }
   ],
   "source": [
    "chatbot"
   ]
  },
  {
   "cell_type": "code",
   "execution_count": 4,
   "id": "090bc8e2",
   "metadata": {},
   "outputs": [],
   "source": [
    "import random\n",
    "responses = {\n",
    "    \"hello\": [\"Hello!\", \"Hi there!\", \"Greetings!\"],\n",
    "    \"how are you\": [\"I'm doing well, thank you!\", \"I'm fine, how about you?\"],\n",
    "    \"goodbye\": [\"Goodbye!\", \"See you later!\", \"Farewell!\"],\n",
    "    \"default\": [\"I'm sorry, I didn't understand.\", \"Could you please rephrase that?\"]\n",
    "}\n",
    " \n",
    "def get_response(user_input):\n",
    " \n",
    "  for key in responses:\n",
    "    if key in user_input:\n",
    "      return random.choice(responses[key])\n",
    " \n",
    " \n",
    "  return random.choice(responses[\"default\"])\n",
    " \n",
    " \n",
    "def chatbot():\n",
    "  print(\"Chatbot: Hi How can i assist you today?\")\n",
    " \n",
    "  while True:\n",
    " \n",
    "    user_input = input(\"User:  \").lower()\n",
    "    response = get_response(user_input)\n",
    "    print(\"Chatbot: \", response)\n",
    "   \n",
    "    if user_input == \"goodbye\":\n",
    "      break\n",
    "     "
   ]
  },
  {
   "cell_type": "code",
   "execution_count": 6,
   "id": "67bc1416",
   "metadata": {},
   "outputs": [
    {
     "name": "stdout",
     "output_type": "stream",
     "text": [
      "Chatbot: Hi How can i assist you today?\n",
      "Chatbot:  Hello!\n",
      "Chatbot:  Could you please rephrase that?\n",
      "Chatbot:  I'm doing well, thank you!\n",
      "Chatbot:  I'm doing well, thank you!\n",
      "Chatbot:  See you later!\n"
     ]
    }
   ],
   "source": [
    "chatbot()"
   ]
  },
  {
   "cell_type": "code",
   "execution_count": 8,
   "id": "47b4aa65",
   "metadata": {},
   "outputs": [],
   "source": [
    "import random\n",
    "import json\n",
    "with open(r\"C:\\Users\\aya mostafa\\Desktop\\diploma\\chatbot.json\", \"r\") as file:\n",
    "    responses=json.load(file)\n",
    "def chatbot():\n",
    "  print(\"Chatbot: Hi How can i assist you today?\")\n",
    " \n",
    "  while True:\n",
    " \n",
    "    user_input = input(\"User:  \").lower()\n",
    "    response = get_response(user_input)\n",
    "    print(\"Chatbot: \", response)\n",
    "   \n",
    "    if user_input == \"goodbye\":\n",
    "      break"
   ]
  },
  {
   "cell_type": "code",
   "execution_count": 9,
   "id": "9fd4871d",
   "metadata": {},
   "outputs": [
    {
     "name": "stdout",
     "output_type": "stream",
     "text": [
      "Chatbot: Hi How can i assist you today?\n",
      "Chatbot:  Farewell!\n"
     ]
    }
   ],
   "source": [
    "chatbot()"
   ]
  },
  {
   "cell_type": "code",
   "execution_count": 14,
   "id": "b426d500",
   "metadata": {},
   "outputs": [],
   "source": [
    "import random\n",
    "import json\n",
    "\n",
    "\n",
    "with open(r\"C:\\Users\\aya mostafa\\Desktop\\diploma\\chatbot.json\", \"r\") as file:\n",
    "    responses = json.load(file)\n",
    "    "
   ]
  },
  {
   "cell_type": "code",
   "execution_count": 11,
   "id": "09412f29",
   "metadata": {},
   "outputs": [
    {
     "name": "stdout",
     "output_type": "stream",
     "text": [
      "Chatbot: Hi! How can I assist you today?\n",
      "Chatbot: I'm doing well, thank you!\n",
      "Chatbot: See you later!\n"
     ]
    }
   ],
   "source": [
    "if __name__ == \"__main__\":\n",
    "    print(\"Chatbot: Hi! How can I assist you today?\")\n",
    "    while True:\n",
    "        user_input = input(\"User: \").lower()\n",
    "        response = get_response(user_input)\n",
    "        print(\"Chatbot:\", response)\n",
    "\n",
    "        if user_input == \"goodbye\":\n",
    "            break\n",
    "   "
   ]
  }
 ],
 "metadata": {
  "kernelspec": {
   "display_name": "Python 3",
   "language": "python",
   "name": "python3"
  },
  "language_info": {
   "codemirror_mode": {
    "name": "ipython",
    "version": 3
   },
   "file_extension": ".py",
   "mimetype": "text/x-python",
   "name": "python",
   "nbconvert_exporter": "python",
   "pygments_lexer": "ipython3",
   "version": "3.12.9"
  }
 },
 "nbformat": 4,
 "nbformat_minor": 5
}
