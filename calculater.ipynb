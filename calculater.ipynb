{
 "cells": [
  {
   "cell_type": "code",
   "execution_count": 1,
   "id": "484ee9d4",
   "metadata": {},
   "outputs": [
    {
     "name": "stdout",
     "output_type": "stream",
     "text": [
      " Welcome to the Basic Calculator!\n",
      "\n",
      "Please select an operation:\n",
      "1. Addition\n",
      "2. Subtraction\n",
      "3. Multiplication\n",
      "4. Division\n",
      "5. Exit\n",
      " The result of adding 2.0 and 3.0 is 5.0\n",
      " Thank you for using the calculator. Goodbye!\n"
     ]
    }
   ],
   "source": [
    "def get_number(prompt):\n",
    "    \"\"\"\n",
    "    Prompts the user to enter a valid number. Repeats until a valid float is entered.\n",
    "\n",
    "    :param prompt: The message shown to the user.\n",
    "    :type prompt: str\n",
    "\n",
    "    :return: The number entered by the user.\n",
    "    :rtype: float\n",
    "    \"\"\"\n",
    "    while True:\n",
    "        try:\n",
    "            return float(input(prompt))\n",
    "        except ValueError:\n",
    "            print(\" Invalid input. Please enter a numeric value.\")\n",
    "def calculator():\n",
    "    \"\"\"\n",
    "    A simple calculator that performs basic arithmetic operations:\n",
    "    addition, subtraction, multiplication, and division.\n",
    "    \"\"\"\n",
    "    print(\" Welcome to the Basic Calculator!\")\n",
    "    while True:\n",
    "        print(\"\\nPlease select an operation:\")\n",
    "        print(\"1. Addition\")\n",
    "        print(\"2. Subtraction\")\n",
    "        print(\"3. Multiplication\")\n",
    "        print(\"4. Division\")\n",
    "        print(\"5. Exit\")\n",
    "\n",
    "        choice = input(\"Enter your choice (1-5): \")\n",
    "\n",
    "        if choice == \"5\":\n",
    "            print(\" Thank you for using the calculator\")\n",
    "            break\n",
    "\n",
    "        if choice not in [\"1\", \"2\", \"3\", \"4\"]:\n",
    "            print(\" Invalid choice. Please select a valid option:\")\n",
    "            continue\n",
    "\n",
    "        num_1 = get_number(\"Enter the first number: \")\n",
    "        num_2 = get_number(\"Enter the second number: \")\n",
    "\n",
    "        if choice == \"1\":\n",
    "            result = num_1 + num_2\n",
    "            operation = \"adding\"\n",
    "        elif choice == \"2\":\n",
    "            result = num_1 - num_2\n",
    "            operation = \"subtracting\"\n",
    "        elif choice == \"3\":\n",
    "            result = num_1 * num_2\n",
    "            operation = \"multiplying\"\n",
    "        elif choice == \"4\":\n",
    "            if num_2 == 0:\n",
    "                print(\" Cannot divide by zero.\")\n",
    "                continue\n",
    "            result = num_1 / num_2\n",
    "            operation = \"dividing\"\n",
    "\n",
    "        print(f\" The result of {operation} {num_1} and {num_2} is {result}\")\n",
    "\n",
    "        again = input(\" Do you want to perform another calculation? (yes/no): \").strip().lower()\n",
    "        if again != \"yes\":\n",
    "            print(\" Thank you for using the calculator. Goodbye!\")\n",
    "            break\n",
    "        \n",
    "calculator()"
   ]
  }
 ],
 "metadata": {
  "kernelspec": {
   "display_name": "Python 3",
   "language": "python",
   "name": "python3"
  },
  "language_info": {
   "codemirror_mode": {
    "name": "ipython",
    "version": 3
   },
   "file_extension": ".py",
   "mimetype": "text/x-python",
   "name": "python",
   "nbconvert_exporter": "python",
   "pygments_lexer": "ipython3",
   "version": "3.12.9"
  }
 },
 "nbformat": 4,
 "nbformat_minor": 5
}
