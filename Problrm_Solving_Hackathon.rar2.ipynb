{
 "cells": [
  {
   "cell_type": "code",
   "execution_count": null,
   "id": "b5a76165-56bd-4425-b4e4-05e4c4b500b2",
   "metadata": {},
   "outputs": [],
   "source": [
    "reverse-words-in-a-string"
   ]
  },
  {
   "cell_type": "code",
   "execution_count": 2,
   "id": "4ffc7412-10b2-40c4-8f6b-ccf7224819c9",
   "metadata": {},
   "outputs": [],
   "source": [
    "class Solution:\n",
    "    def reverseWords(self, s: str) -> str:\n",
    "        # Step 1: split the string into words (split() automatically removes extra spaces)\n",
    "        words = s.split()\n",
    "        \n",
    "        # Step 2: reverse the list of words\n",
    "        reversed_words = words[::-1]\n",
    "        \n",
    "        # Step 3: join with a single space\n",
    "        return \" \".join(reversed_words)"
   ]
  },
  {
   "cell_type": "code",
   "execution_count": null,
   "id": "fc751e93-34a2-4997-b321-ed0946f6af04",
   "metadata": {},
   "outputs": [],
   "source": [
    "product-of-array-except-self"
   ]
  },
  {
   "cell_type": "code",
   "execution_count": 3,
   "id": "3b1f7be9-77f5-4ffd-8a2d-06e4655ffad3",
   "metadata": {},
   "outputs": [],
   "source": [
    "class Solution:\n",
    "    def productExceptSelf(self, nums: list[int]) -> list[int]:\n",
    "        n = len(nums)\n",
    "        answer = [1] * n  # initialize with 1s\n",
    "\n",
    "        # Step 1: Prefix products\n",
    "        prefix = 1\n",
    "        for i in range(n):\n",
    "            answer[i] = prefix\n",
    "            prefix *= nums[i]\n",
    "\n",
    "        # Step 2: Suffix products\n",
    "        suffix = 1\n",
    "        for i in range(n - 1, -1, -1):\n",
    "            answer[i] *= suffix\n",
    "            suffix *= nums[i]\n",
    "\n",
    "        return answer"
   ]
  },
  {
   "cell_type": "code",
   "execution_count": null,
   "id": "02763bd0-0432-47f5-8fae-ff54a08b768e",
   "metadata": {},
   "outputs": [],
   "source": [
    "increasing-triplet-subsequence"
   ]
  },
  {
   "cell_type": "code",
   "execution_count": 4,
   "id": "6e09c5d1-d096-4ebf-b07d-16a62a966a7c",
   "metadata": {},
   "outputs": [],
   "source": [
    "class Solution:\n",
    "    def increasingTriplet(self, nums: list[int]) -> bool:\n",
    "        first = float('inf')\n",
    "        second = float('inf')\n",
    "        \n",
    "        for num in nums:\n",
    "            if num <= first:\n",
    "                first = num   # أصغر رقم لحد دلوقتي\n",
    "            elif num <= second:\n",
    "                second = num  # تاني أصغر رقم\n",
    "            else:\n",
    "                # num > second → لقينا increasing triplet\n",
    "                return True\n",
    "        \n",
    "        return False"
   ]
  },
  {
   "cell_type": "code",
   "execution_count": null,
   "id": "fc5874ce-28ed-429f-88d7-778f88be4a03",
   "metadata": {},
   "outputs": [],
   "source": [
    "string-compression"
   ]
  },
  {
   "cell_type": "code",
   "execution_count": 5,
   "id": "7e415aa1-141a-4082-b7f4-b2796f27c828",
   "metadata": {},
   "outputs": [],
   "source": [
    "class Solution:\n",
    "    def compress(self, chars: list[str]) -> int:\n",
    "        write = 0   # فين هنكتب\n",
    "        read = 0    # فين هنقرأ\n",
    "        \n",
    "        while read < len(chars):\n",
    "            char = chars[read]\n",
    "            count = 0\n",
    "            \n",
    "            # عد التكرارات\n",
    "            while read < len(chars) and chars[read] == char:\n",
    "                read += 1\n",
    "                count += 1\n",
    "            \n",
    "            # اكتب الحرف\n",
    "            chars[write] = char\n",
    "            write += 1\n",
    "            \n",
    "            # لو فيه تكرار اكتر من 1 اكتب الرقم\n",
    "            if count > 1:\n",
    "                for c in str(count):\n",
    "                    chars[write] = c\n",
    "                    write += 1\n",
    "        \n",
    "        return write"
   ]
  },
  {
   "cell_type": "code",
   "execution_count": null,
   "id": "6de40cf0-ab01-4b2a-87db-6651734805f8",
   "metadata": {},
   "outputs": [],
   "source": []
  }
 ],
 "metadata": {
  "kernelspec": {
   "display_name": "Python 3 (ipykernel)",
   "language": "python",
   "name": "python3"
  },
  "language_info": {
   "codemirror_mode": {
    "name": "ipython",
    "version": 3
   },
   "file_extension": ".py",
   "mimetype": "text/x-python",
   "name": "python",
   "nbconvert_exporter": "python",
   "pygments_lexer": "ipython3",
   "version": "3.12.9"
  }
 },
 "nbformat": 4,
 "nbformat_minor": 5
}
