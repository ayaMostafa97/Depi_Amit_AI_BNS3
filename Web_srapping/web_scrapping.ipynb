{
 "cells": [
  {
   "cell_type": "code",
   "execution_count": 3,
   "id": "ef53e4a0",
   "metadata": {},
   "outputs": [
    {
     "name": "stdout",
     "output_type": "stream",
     "text": [
      "🔄 Fetching page 1...\n",
      "✅ AI Engineer - Travel Tech at Rahala - (Mohandessin, Giza, Egypt)\n",
      "✅ Data Scientist at Lumin - (Sheikh Zayed, Giza, Egypt)\n",
      "✅ Data Scientist at Egabi FSI - (Sheraton, Cairo, Egypt)\n",
      "✅ Graduate Internship: Enterprise Software Engineering at eT3 - Tomorrow Information Technology - (New Cairo, Cairo, Egypt)\n",
      "✅ AI Engineer at ProVision Group - (Maadi, Cairo, Egypt)\n",
      "✅ Machine Learning Engineer at EPAM Systems - (Dubai, United Arab Emirates)\n",
      "✅ Machine Learning Engineer at Mozn - (Riyadh, Saudi Arabia)\n",
      "✅ AI Engineer (Computer Vision, Speech, NLP & Generative AI) at Madar Soft - (Fleming, Alexandria, Egypt)\n",
      "✅ Learning & Development Specialist at Sungrow MENA & Central Asia - (Dubai, United Arab Emirates)\n",
      "✅ Learning & Development Manager - LXR Eastern Mangroves Abu Dhabi (Pre-Opening) at Hilton - (Dubai, United Arab Emirates)\n",
      "✅ 3D Printer Maintenance Technician at Gazelle 3D Tech - (6th of October, Giza, Egypt)\n",
      "✅ Senior Data Analyst at Xceed Contact Center - (Cairo, Egypt)\n",
      "✅ AI Engineer - Client Engineering KSA at IBM - (Riyadh, Saudi Arabia)\n",
      "✅ MLOps Engineer at Confidential - (Cairo, Egypt)\n",
      "✅ Software Engineer (AI & Data Analytics) at AlZamel for consultation - (Maadi, Cairo, Egypt)\n",
      "🔄 Fetching page 2...\n",
      "🔄 Fetching page 3...\n",
      "🔄 Fetching page 4...\n",
      "🔄 Fetching page 5...\n",
      "\n",
      " Scraping complete! Data saved in 'wuzzuf_jobs.csv'\n"
     ]
    }
   ],
   "source": [
    "import requests\n",
    "from bs4 import BeautifulSoup\n",
    "import csv\n",
    "from time import sleep\n",
    "from random import uniform\n",
    "\n",
    "\n",
    "base_url = \"https://wuzzuf.net/search/jobs\"\n",
    "query = \"machine learning\"\n",
    "headers = {\n",
    "    \"User-Agent\": \"Mozilla/5.0 (Windows NT 10.0; Win64; x64)\"\n",
    "}\n",
    "\n",
    "# عدد الصفحات اللي هنجمع منها الوظائف\n",
    "number_of_pages = 5  \n",
    "\n",
    "# تجهيز ملف CSV لتخزين النتائج\n",
    "with open(\"wuzzuf_jobs.csv\", mode=\"w\", newline='', encoding=\"utf-8\") as file:\n",
    "    writer = csv.writer(file)\n",
    "    writer.writerow([\"Job Title\", \"Company\", \"Location\", \"Posted\", \"Skills / Qualifications\"])\n",
    "\n",
    "    # نلف على كل صفحة\n",
    "    for page in range(number_of_pages):\n",
    "        params = {\n",
    "            \"q\": query,\n",
    "            \"start\": page * 15  # كل صفحة في الموقع فيها 15 وظيفة تقريبًا\n",
    "        }\n",
    "\n",
    "        print(f\"🔄 Fetching page {page + 1}...\")\n",
    "        response = requests.get(base_url, headers=headers, params=params)\n",
    "        soup = BeautifulSoup(response.content, \"html.parser\")\n",
    "\n",
    "        jobs = soup.find_all(\"div\", {\"class\": \"css-1gatmva\"})\n",
    "\n",
    "        for job in jobs:\n",
    "            title_tag = job.find(\"h2\", {\"class\": \"css-m604qf\"})\n",
    "            company_tag = job.find(\"a\", {\"class\": \"css-17s97q8\"})\n",
    "            location_tag = job.find(\"span\", {\"class\": \"css-5wys0k\"})\n",
    "            time_tag = job.find(\"div\", {\"class\": \"css-do6t5g\"})\n",
    "            skills_tag = job.find(\"div\", {\"class\": \"css-y4udm8\"})\n",
    "\n",
    "            title = title_tag.text.strip() if title_tag else \"N/A\"\n",
    "            company = company_tag.text.strip() if company_tag else \"N/A\"\n",
    "            location = location_tag.text.strip() if location_tag else \"N/A\"\n",
    "            posted = time_tag.text.strip() if time_tag else \"N/A\"\n",
    "            skills = skills_tag.text.strip().replace(\"\\n\", \", \") if skills_tag else \"N/A\"\n",
    "\n",
    "            writer.writerow([title, company, location, posted, skills])\n",
    "\n",
    "            print(f\"✅ {title} at {company} ({location})\")\n",
    "\n",
    "        # تأخير عشوائي بين الصفحات عشان نحاكي التصفح الطبيعي \n",
    "        sleep(uniform(1.5, 3.0))\n",
    "\n",
    "print(\"\\n Scraping complete! Data saved in 'wuzzuf_jobs.csv'\")"
   ]
  }
 ],
 "metadata": {
  "kernelspec": {
   "display_name": ".env (3.12.9)",
   "language": "python",
   "name": "python3"
  },
  "language_info": {
   "codemirror_mode": {
    "name": "ipython",
    "version": 3
   },
   "file_extension": ".py",
   "mimetype": "text/x-python",
   "name": "python",
   "nbconvert_exporter": "python",
   "pygments_lexer": "ipython3",
   "version": "3.12.9"
  }
 },
 "nbformat": 4,
 "nbformat_minor": 5
}
