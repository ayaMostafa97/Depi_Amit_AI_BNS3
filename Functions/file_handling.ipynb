{
 "cells": [
  {
   "cell_type": "code",
   "execution_count": 1,
   "id": "064308b0",
   "metadata": {},
   "outputs": [
    {
     "name": "stdout",
     "output_type": "stream",
     "text": [
      "Folder contents: ['code', 'file_0.txt', 'file_1.txt', 'file_10.txt', 'file_11.txt', 'file_12.txt', 'file_13.txt', 'file_14.txt', 'file_15.txt', 'file_16.txt', 'file_17.txt', 'file_18.txt', 'file_19.txt', 'file_2.txt', 'file_3.txt', 'file_4.txt', 'file_5.txt', 'file_6.txt', 'file_7.txt', 'file_8.txt', 'file_9.txt', 'sesion', 'testt.txt']\n"
     ]
    }
   ],
   "source": [
    "import os\n",
    "\n",
    "def open_or_create_folder(folder_path):\n",
    "    \"\"\"\n",
    "    Opens a folder by checking if it exists, and creates it if not.\n",
    "\n",
    "    :param folder_path: The path to the folder.\n",
    "    :type folder_path: str\n",
    "\n",
    "    :return: List of items (files/folders) in the folder after ensuring it exists.\n",
    "    :rtype: list\n",
    "    \"\"\"\n",
    "    if not os.path.exists(folder_path):\n",
    "        os.makedirs(folder_path)  \n",
    "\n",
    "    return os.listdir(folder_path)\n",
    "path = \"C:\\\\Users\\\\aya mostafa\\\\Desktop\\\\diploma\\\\sourse\"\n",
    "text = open_or_create_folder(path)\n",
    "print(\"Folder contents:\", text)"
   ]
  },
  {
   "cell_type": "code",
   "execution_count": 2,
   "id": "e8f37d82",
   "metadata": {},
   "outputs": [
    {
     "name": "stdout",
     "output_type": "stream",
     "text": [
      "Created files: ['file_0.txt', 'file_1.txt', 'file_2.txt', 'file_3.txt', 'file_4.txt', 'file_5.txt', 'file_6.txt', 'file_7.txt', 'file_8.txt', 'file_9.txt', 'file_10.txt', 'file_11.txt', 'file_12.txt', 'file_13.txt', 'file_14.txt', 'file_15.txt', 'file_16.txt', 'file_17.txt', 'file_18.txt', 'file_19.txt']\n"
     ]
    }
   ],
   "source": [
    "import os\n",
    "\n",
    "def create_files_in_folder(path_folder, number_files):\n",
    "    \"\"\"\n",
    "    Creates a specified number of text files in the given folder.\n",
    "\n",
    "    :param folder_path: The path to the folder.\n",
    "    :type folder_path: str\n",
    "\n",
    "    :param number_of_files: Number of files to create.\n",
    "    :type number_of_files: int\n",
    "\n",
    "    :raises ValueError: If the number of files is negative.\n",
    "\n",
    "    :return: List of created file names.\n",
    "    :rtype: list\n",
    "    \"\"\"\n",
    "    if number_files < 0:\n",
    "        return ValueError(\"Number of files must be non-negative.\")\n",
    "\n",
    "    created_files = []\n",
    "\n",
    "    for i in range(number_files):\n",
    "        file_name = f\"file_{i}.txt\"\n",
    "        inner_path= os.path.join(path_folder, file_name)\n",
    "        with open(inner_path, 'w') as file:\n",
    "            file.write(f\"This is file number {i}\\n\")\n",
    "        created_files.append(file_name)\n",
    "\n",
    "    return created_files\n",
    "path = \"C:\\\\Users\\\\aya mostafa\\\\Desktop\\\\diploma\\\\sourse\"\n",
    "created = create_files_in_folder(path, 20)\n",
    "print(\"Created files:\", created)"
   ]
  },
  {
   "cell_type": "code",
   "execution_count": 3,
   "id": "beeb96c0",
   "metadata": {},
   "outputs": [
    {
     "name": "stdout",
     "output_type": "stream",
     "text": [
      "Number of files: 23\n"
     ]
    }
   ],
   "source": [
    "import os\n",
    "\n",
    "def count_files_in_folder(folder_path):\n",
    "    \"\"\"\n",
    "    Counts the number of files (not folders) inside the specified folder.\n",
    "\n",
    "    :param folder_path: The path to the folder.\n",
    "    :type folder_path: str\n",
    "\n",
    "    :return: Number of files in the folder.\n",
    "    :rtype: int\n",
    "    \"\"\"\n",
    "    all_content = os.listdir(folder_path)  \n",
    "    count = 0\n",
    "\n",
    "    for item in all_content:\n",
    "        full_path = os.path.join(folder_path, item)\n",
    "        if os.path.isfile(full_path):  \n",
    "            count += 1\n",
    "\n",
    "    return count\n",
    "path = \"C:\\\\Users\\\\aya mostafa\\\\Desktop\\\\diploma\\\\sourse\"\n",
    "num_files = count_files_in_folder(path)\n",
    "print(\"Number of files:\", num_files)"
   ]
  },
  {
   "cell_type": "code",
   "execution_count": 4,
   "id": "b606f88d",
   "metadata": {},
   "outputs": [
    {
     "name": "stdout",
     "output_type": "stream",
     "text": [
      "files are deleted: ['file_12.txt', 'file_10.txt', 'file_17.txt', 'file_0.txt', 'file_13.txt', 'file_16.txt', 'file_8.txt', 'file_5.txt', 'file_3.txt', 'file_2.txt', 'file_1.txt']\n"
     ]
    }
   ],
   "source": [
    "import os\n",
    "import random\n",
    "\n",
    "def delete_half_of_files_randomly(folder_path):\n",
    "    \"\"\"\n",
    "    Deletes half of the files in the specified folder randomly.\n",
    "\n",
    "    :param folder_path: The path to the folder.\n",
    "    :type folder_path: str\n",
    "\n",
    "    :return: List of deleted file names.\n",
    "    :rtype: list\n",
    "    \"\"\"\n",
    "    all_items = os.listdir(folder_path)\n",
    "    files = []\n",
    "\n",
    "   \n",
    "    for item in all_items:\n",
    "        full_path = os.path.join(folder_path, item)\n",
    "        if os.path.isfile(full_path):\n",
    "            files.append(item)\n",
    "\n",
    "    \n",
    "    half_count = len(files) // 2\n",
    "\n",
    "   \n",
    "    files_to_delete = random.sample(files, half_count)\n",
    "\n",
    "   \n",
    "    for file_name in files_to_delete:\n",
    "        os.remove(os.path.join(folder_path, file_name))\n",
    "\n",
    "    return files_to_delete\n",
    "path = \"C:\\\\Users\\\\aya mostafa\\\\Desktop\\\\diploma\\\\sourse\"\n",
    "deleted = delete_half_of_files_randomly(path)\n",
    "print(\"files are deleted:\", deleted)"
   ]
  },
  {
   "cell_type": "code",
   "execution_count": 5,
   "id": "9153bdf8",
   "metadata": {},
   "outputs": [
    {
     "name": "stdout",
     "output_type": "stream",
     "text": [
      "files_after_deleted ['code', 'file_11.txt', 'file_14.txt', 'file_15.txt', 'file_18.txt', 'file_19.txt', 'file_4.txt', 'file_6.txt', 'file_7.txt', 'file_9.txt', 'sesion', 'testt.txt']\n",
      "Number of files 12\n"
     ]
    }
   ],
   "source": [
    "import os\n",
    "\n",
    "def get_files_after_delete(folder_path):\n",
    "    \"\"\"\n",
    "    Returns a list of files remaining in the folder after deletion.\n",
    "\n",
    "    :param folder_path: The path to the folder.\n",
    "    :type folder_path: str\n",
    "\n",
    "    :return: List of remaining file names.\n",
    "    :rtype: list\n",
    "    \"\"\"\n",
    "    all_items = os.listdir(folder_path)\n",
    "    files_after_delete = []\n",
    "\n",
    "    for item in all_items:\n",
    "        full_path = os.path.join(folder_path, item)\n",
    "        if os.path.isfile(full_path):\n",
    "            files_after_delete.append(item)\n",
    "\n",
    "    return files_after_delete\n",
    "path = \"C:\\\\Users\\\\aya mostafa\\\\Desktop\\\\diploma\\\\sourse\"\n",
    "\n",
    "files_after_delete = get_files_after_delete(path)\n",
    "\n",
    "print(\"files_after_deleted\", files_after_delete)\n",
    "print(\"Number of files\", len(files_after_delete))"
   ]
  },
  {
   "cell_type": "code",
   "execution_count": 7,
   "id": "d2cea195",
   "metadata": {},
   "outputs": [
    {
     "name": "stdout",
     "output_type": "stream",
     "text": [
      "Folder Process Summary:\n",
      "Initial number of files: 15\n",
      "Deleted files: ['file_5.txt', 'file_0.txt', 'file_14.txt', 'file_11.txt', 'file_7.txt', 'sesion', 'file_3.txt']\n",
      "Files after deletion: ['code', 'file_1.txt', 'file_18.txt', 'file_2.txt', 'file_4.txt', 'file_6.txt', 'file_8.txt', 'file_9.txt']\n",
      "Remaining number of files: 8\n"
     ]
    }
   ],
   "source": [
    "import os\n",
    "import random\n",
    "\n",
    "def run_full_process(folder_path, num_files_to_create):\n",
    "   \n",
    "    if not os.path.exists(folder_path):\n",
    "        os.makedirs(folder_path)\n",
    "\n",
    "   \n",
    "    for i in range(num_files_to_create):\n",
    "        file_name = f\"file_{i}.txt\"\n",
    "        full_path = os.path.join(folder_path, file_name)\n",
    "        with open(full_path, 'w') as file:\n",
    "            file.write(f\"This is file number {i}\\n\")\n",
    "\n",
    "   \n",
    "    all_items = os.listdir(folder_path)\n",
    "    initial_files = []\n",
    "    for item in all_items:\n",
    "        if os.path.isfile(os.path.join(folder_path, item)):\n",
    "            initial_files.append(item)\n",
    "\n",
    "    initial_count = len(initial_files)\n",
    "    half_count = initial_count // 2\n",
    "    files_to_delete = random.sample(initial_files, half_count)\n",
    "\n",
    "    for file_name in files_to_delete:\n",
    "        os.remove(os.path.join(folder_path, file_name))\n",
    "\n",
    "   \n",
    "    files_after_delete = []\n",
    "    for item in os.listdir(folder_path):\n",
    "        full_path = os.path.join(folder_path, item)\n",
    "        if os.path.isfile(full_path):\n",
    "            files_after_delete.append(item)\n",
    "\n",
    "    \n",
    "    return {\n",
    "        \"initial_file_count\": initial_count,\n",
    "        \"deleted_files\": files_to_delete,\n",
    "        \"files_after_delete\": files_after_delete,\n",
    "        \"remaining_file_count\": len(files_after_delete)\n",
    "    }\n",
    "folder_path = \"C:\\\\Users\\\\aya mostafa\\\\Desktop\\\\diploma\\\\sourse\"\n",
    "result = run_full_process(path, 10)\n",
    "print(\"Folder Process Summary:\")\n",
    "print(\"Initial number of files:\", result[\"initial_file_count\"])\n",
    "print(\"Deleted files:\", result[\"deleted_files\"])\n",
    "print(\"Files after deletion:\", result[\"files_after_delete\"])\n",
    "print(\"Remaining number of files:\", result[\"remaining_file_count\"])"
   ]
  }
 ],
 "metadata": {
  "kernelspec": {
   "display_name": "Python 3",
   "language": "python",
   "name": "python3"
  },
  "language_info": {
   "codemirror_mode": {
    "name": "ipython",
    "version": 3
   },
   "file_extension": ".py",
   "mimetype": "text/x-python",
   "name": "python",
   "nbconvert_exporter": "python",
   "pygments_lexer": "ipython3",
   "version": "3.12.9"
  }
 },
 "nbformat": 4,
 "nbformat_minor": 5
}
