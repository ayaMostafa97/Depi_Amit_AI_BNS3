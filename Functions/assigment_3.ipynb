{
 "cells": [
  {
   "cell_type": "code",
   "execution_count": null,
   "id": "5c1fae40",
   "metadata": {},
   "outputs": [
    {
     "name": "stdout",
     "output_type": "stream",
     "text": [
      "The multiplication of 2 and 3 is 6\n"
     ]
    }
   ],
   "source": [
    "#1\n",
    "def multi_function(num_1, num_2):\n",
    "    multi = num_1 * num_2\n",
    "    print(f\"The multiplication of {num_1} and {num_2} is {multi}\")\n",
    "x = int(input(\"Enter number 1: \"))\n",
    "y = int(input(\"Enter number 2: \"))\n",
    "multi_function(x, y)"
   ]
  },
  {
   "cell_type": "code",
   "execution_count": 8,
   "id": "7f0a155b",
   "metadata": {},
   "outputs": [
    {
     "name": "stdout",
     "output_type": "stream",
     "text": [
      "3 and 5\n",
      "5 and 7\n",
      "11 and 13\n",
      "17 and 19\n",
      "29 and 31\n",
      "41 and 43\n",
      "59 and 61\n",
      "71 and 73\n",
      "101 and 103\n",
      "107 and 109\n",
      "137 and 139\n",
      "149 and 151\n",
      "179 and 181\n",
      "191 and 193\n",
      "197 and 199\n",
      "227 and 229\n",
      "239 and 241\n",
      "269 and 271\n",
      "281 and 283\n",
      "311 and 313\n",
      "347 and 349\n",
      "419 and 421\n",
      "431 and 433\n",
      "461 and 463\n",
      "521 and 523\n",
      "569 and 571\n",
      "599 and 601\n",
      "617 and 619\n",
      "641 and 643\n",
      "659 and 661\n",
      "809 and 811\n",
      "821 and 823\n",
      "827 and 829\n",
      "857 and 859\n",
      "881 and 883\n"
     ]
    }
   ],
   "source": [
    "#2\n",
    "def is_prime(n):\n",
    "    if n < 2:\n",
    "        return False\n",
    "    for i in range(2, int(n**0.5)+1):\n",
    "        if n % i == 0:\n",
    "            return False\n",
    "    return True\n",
    "\n",
    "def twin_primes(limit):\n",
    "    for i in range(3, limit, 2): \n",
    "        if is_prime(i) and is_prime(i + 2):\n",
    "            print(f\"{i} and {i + 2}\")\n",
    "\n",
    "user_input = int(input(\"Enter the upper limit to search for twin prime numbers: \"))\n",
    "\n",
    "twin_primes(user_input)"
   ]
  },
  {
   "cell_type": "code",
   "execution_count": 10,
   "id": "531db8ad",
   "metadata": {},
   "outputs": [
    {
     "name": "stdout",
     "output_type": "stream",
     "text": [
      "prime factors: [2, 2, 3, 5]\n"
     ]
    }
   ],
   "source": [
    "#3\n",
    "def prime_factors(n):\n",
    "    factors = []\n",
    "\n",
    "  \n",
    "    while n % 2 == 0:\n",
    "        factors.append(2)\n",
    "        n = n // 2\n",
    "\n",
    "   \n",
    "    i = 3\n",
    "    while i <= n:\n",
    "        while n % i == 0:\n",
    "            factors.append(i)\n",
    "            n = n // i\n",
    "        i += 2\n",
    "\n",
    "    return factors\n",
    "\n",
    "\n",
    "num = int(input(\"enter the number\"))\n",
    "\n",
    "\n",
    "print(\"prime factors:\", prime_factors(num))"
   ]
  },
  {
   "cell_type": "code",
   "execution_count": 11,
   "id": "f8daa28e",
   "metadata": {},
   "outputs": [
    {
     "name": "stdout",
     "output_type": "stream",
     "text": [
      "dec_to_bin 1010\n"
     ]
    }
   ],
   "source": [
    "def dec_to_bin(n):\n",
    "    binary = \"\"\n",
    "    while n > 0:\n",
    "        remainder = n % 2\n",
    "        binary = str(remainder) + binary\n",
    "        n = n // 2\n",
    "    return binary if binary else \"0\"\n",
    "\n",
    "\n",
    "num = int(input(\"enter the number\"))\n",
    "\n",
    "\n",
    "print(\"dec_to_bin\", dec_to_bin(num))"
   ]
  },
  {
   "cell_type": "code",
   "execution_count": 13,
   "id": "e44fe004",
   "metadata": {},
   "outputs": [
    {
     "name": "stdout",
     "output_type": "stream",
     "text": [
      "Perfect numbers between 1 and 100:\n",
      "6\n",
      "28\n"
     ]
    }
   ],
   "source": [
    "def is_perfect(n):\n",
    "    sum_divisors = 0\n",
    "    for i in range(1, n):\n",
    "        if n % i == 0:\n",
    "            sum_divisors += i\n",
    "    return sum_divisors == n\n",
    "\n",
    "def perfect_nums(start, end):\n",
    "    print(f\"Perfect numbers between {start} and {end}:\")\n",
    "    for num in range(start, end + 1):\n",
    "        if is_perfect(num):\n",
    "            print(num)\n",
    "\n",
    "start = int(input(\"Enter the start of the range: \"))\n",
    "end = int(input(\"Enter the end of the range: \"))\n",
    "\n",
    "perfect_nums(start, end)"
   ]
  }
 ],
 "metadata": {
  "kernelspec": {
   "display_name": "Python 3",
   "language": "python",
   "name": "python3"
  },
  "language_info": {
   "codemirror_mode": {
    "name": "ipython",
    "version": 3
   },
   "file_extension": ".py",
   "mimetype": "text/x-python",
   "name": "python",
   "nbconvert_exporter": "python",
   "pygments_lexer": "ipython3",
   "version": "3.12.9"
  }
 },
 "nbformat": 4,
 "nbformat_minor": 5
}
