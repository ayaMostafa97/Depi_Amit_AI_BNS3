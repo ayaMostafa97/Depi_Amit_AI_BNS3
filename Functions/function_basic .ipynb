{
 "cells": [
  {
   "cell_type": "code",
   "execution_count": null,
   "id": "ef18209c",
   "metadata": {},
   "outputs": [],
   "source": [
    "def info_std (name, age):\n",
    "    \"\"\"\"this function take two name frome user(his name and age)\n",
    "    parm_1:take the name from user\n",
    "    type_parm_1:str\n",
    "    parm_2:take tahe age from user\n",
    "    type_parm_2:int\n",
    "    return:return age and name of user\n",
    "    type_return:str,int\"\"\"\n",
    "    print(f\"my name is {name},m age is {age}\")"
   ]
  },
  {
   "cell_type": "code",
   "execution_count": 10,
   "id": "64a64487",
   "metadata": {},
   "outputs": [
    {
     "name": "stdout",
     "output_type": "stream",
     "text": [
      "my name is george,m age is 19\n"
     ]
    }
   ],
   "source": [
    "info_std(\"george\",19)"
   ]
  },
  {
   "cell_type": "code",
   "execution_count": 3,
   "id": "7687f850",
   "metadata": {},
   "outputs": [
    {
     "data": {
      "text/plain": [
       "-0.3048106211022167"
      ]
     },
     "execution_count": 3,
     "metadata": {},
     "output_type": "execute_result"
    }
   ],
   "source": [
    "import math\n",
    "math.sin(60)"
   ]
  },
  {
   "cell_type": "code",
   "execution_count": 11,
   "id": "6e32f31b",
   "metadata": {},
   "outputs": [],
   "source": [
    "def info_std (*name):\n",
    "    \"\"\"\"this function take two name frome user(his name and age)\n",
    "    parm_1:take the name from user\n",
    "    type_parm_1:str\n",
    "    parm_2:take tahe age from user\n",
    "    type_parm_2:int\n",
    "    return:return age and name of user\n",
    "    type_return:str,int\"\"\"\n",
    "    print(f\"my name is {name}\")"
   ]
  },
  {
   "cell_type": "code",
   "execution_count": 12,
   "id": "4ed18078",
   "metadata": {},
   "outputs": [
    {
     "name": "stdout",
     "output_type": "stream",
     "text": [
      "my name is ('aya', 'mohammed', 'george')\n"
     ]
    }
   ],
   "source": [
    "info_std(\"aya\",\"mohammed\",\"george\")"
   ]
  },
  {
   "cell_type": "code",
   "execution_count": 13,
   "id": "d6e1bc23",
   "metadata": {},
   "outputs": [],
   "source": [
    "def info_std (**name):\n",
    "    \"\"\"\"this function take two name frome user(his name and age)\n",
    "    parm_1:take the name from user\n",
    "    type_parm_1:str\n",
    "    parm_2:take tahe age from user\n",
    "    type_parm_2:int\n",
    "    return:return age and name of user\n",
    "    type_return:str,int\"\"\"\n",
    "    print(f\"my name is {name}\")"
   ]
  },
  {
   "cell_type": "code",
   "execution_count": 15,
   "id": "75b109ad",
   "metadata": {},
   "outputs": [
    {
     "name": "stdout",
     "output_type": "stream",
     "text": [
      "my name is {'aya': '20', 'mohammed': '20'}\n"
     ]
    }
   ],
   "source": [
    "info_std(aya=\"20\",mohammed=\"20\")"
   ]
  },
  {
   "cell_type": "code",
   "execution_count": 16,
   "id": "c855c408",
   "metadata": {},
   "outputs": [],
   "source": [
    "def sum_num(x):\n",
    "    return x+10\n",
    "    "
   ]
  },
  {
   "cell_type": "code",
   "execution_count": 17,
   "id": "311783a8",
   "metadata": {},
   "outputs": [
    {
     "data": {
      "text/plain": [
       "<function __main__.sum_num(x)>"
      ]
     },
     "execution_count": 17,
     "metadata": {},
     "output_type": "execute_result"
    }
   ],
   "source": [
    "sum_num"
   ]
  },
  {
   "cell_type": "code",
   "execution_count": 19,
   "id": "2367d0b4",
   "metadata": {},
   "outputs": [
    {
     "data": {
      "text/plain": [
       "function"
      ]
     },
     "execution_count": 19,
     "metadata": {},
     "output_type": "execute_result"
    }
   ],
   "source": [
    "sum_n=lambda x:x+10\n",
    "type(sum_n)"
   ]
  },
  {
   "cell_type": "code",
   "execution_count": 20,
   "id": "c6190343",
   "metadata": {},
   "outputs": [
    {
     "data": {
      "text/plain": [
       "20"
      ]
     },
     "execution_count": 20,
     "metadata": {},
     "output_type": "execute_result"
    }
   ],
   "source": [
    "sum_n=lambda x:x+10\n",
    "sum_n(10)"
   ]
  },
  {
   "cell_type": "code",
   "execution_count": 21,
   "id": "1bdf6e10",
   "metadata": {},
   "outputs": [],
   "source": [
    "def sum_num(x):\n",
    "    return lambda x:x+10\n",
    "    "
   ]
  },
  {
   "cell_type": "code",
   "execution_count": 26,
   "id": "27d80e1c",
   "metadata": {},
   "outputs": [
    {
     "data": {
      "text/plain": [
       "20"
      ]
     },
     "execution_count": 26,
     "metadata": {},
     "output_type": "execute_result"
    }
   ],
   "source": [
    "sum_n=sum_num(10)\n",
    "sum_n(10)"
   ]
  },
  {
   "cell_type": "code",
   "execution_count": 27,
   "id": "95ed4478",
   "metadata": {},
   "outputs": [
    {
     "data": {
      "text/plain": [
       "30"
      ]
     },
     "execution_count": 27,
     "metadata": {},
     "output_type": "execute_result"
    }
   ],
   "source": [
    "sum_1=lambda x,y:x+y\n",
    "sum_1(10,20)"
   ]
  },
  {
   "cell_type": "code",
   "execution_count": 28,
   "id": "a56e879b",
   "metadata": {},
   "outputs": [],
   "source": [
    "def sum_n(n):\n",
    "    return lambda a:a*n"
   ]
  },
  {
   "cell_type": "code",
   "execution_count": 33,
   "id": "79a2f4ae",
   "metadata": {},
   "outputs": [
    {
     "data": {
      "text/plain": [
       "22"
      ]
     },
     "execution_count": 33,
     "metadata": {},
     "output_type": "execute_result"
    }
   ],
   "source": [
    "fun_1=sum_n(11)\n",
    "fun_1(2)"
   ]
  },
  {
   "cell_type": "code",
   "execution_count": 34,
   "id": "18c3c578",
   "metadata": {},
   "outputs": [
    {
     "name": "stdout",
     "output_type": "stream",
     "text": [
      "not accept to divided by zero\n"
     ]
    }
   ],
   "source": [
    "try:\n",
    "    5/x\n",
    "except:\n",
    "    print(\"not accept to divided by zero\")"
   ]
  },
  {
   "cell_type": "code",
   "execution_count": 36,
   "id": "2cdf1a40",
   "metadata": {},
   "outputs": [
    {
     "name": "stdout",
     "output_type": "stream",
     "text": [
      "not accept to divided by zero\n"
     ]
    }
   ],
   "source": [
    "try:\n",
    "    x=10\n",
    "    y=int(input(\"enter your value\"))\n",
    "    x/y\n",
    "    \n",
    "except:\n",
    "    print(\"not accept to divided by zero\")\n",
    "    "
   ]
  },
  {
   "cell_type": "code",
   "execution_count": 38,
   "id": "aa784fa3",
   "metadata": {},
   "outputs": [
    {
     "name": "stdout",
     "output_type": "stream",
     "text": [
      "division by zero\n"
     ]
    }
   ],
   "source": [
    "try:\n",
    "    5/0\n",
    "except Exception as e:\n",
    "    print(e)"
   ]
  },
  {
   "cell_type": "code",
   "execution_count": 39,
   "id": "2487d10b",
   "metadata": {},
   "outputs": [
    {
     "name": "stdout",
     "output_type": "stream",
     "text": [
      "5\n"
     ]
    }
   ],
   "source": [
    "a=5\n",
    "y=10\n",
    "try:\n",
    "    print(a)\n",
    "except:\n",
    "    print(\"aa\")"
   ]
  },
  {
   "cell_type": "code",
   "execution_count": 40,
   "id": "e422d26b",
   "metadata": {},
   "outputs": [
    {
     "ename": "ZeroDivisionError",
     "evalue": "division by zero",
     "output_type": "error",
     "traceback": [
      "\u001b[31m---------------------------------------------------------------------------\u001b[39m",
      "\u001b[31mZeroDivisionError\u001b[39m                         Traceback (most recent call last)",
      "\u001b[36mCell\u001b[39m\u001b[36m \u001b[39m\u001b[32mIn[40]\u001b[39m\u001b[32m, line 4\u001b[39m\n\u001b[32m      2\u001b[39m y=\u001b[32m10\u001b[39m\n\u001b[32m      3\u001b[39m \u001b[38;5;28;01mtry\u001b[39;00m:\n\u001b[32m----> \u001b[39m\u001b[32m4\u001b[39m     \u001b[32;43m5\u001b[39;49m\u001b[43m/\u001b[49m\u001b[32;43m0\u001b[39;49m\n\u001b[32m      5\u001b[39m \u001b[38;5;28;01mexcept\u001b[39;00m \u001b[38;5;167;01mNameError\u001b[39;00m:\n\u001b[32m      6\u001b[39m     \u001b[38;5;28mprint\u001b[39m(\u001b[33m\"\u001b[39m\u001b[33maa\u001b[39m\u001b[33m\"\u001b[39m)\n",
      "\u001b[31mZeroDivisionError\u001b[39m: division by zero"
     ]
    }
   ],
   "source": [
    "a=5\n",
    "y=10\n",
    "try:\n",
    "    5/0\n",
    "except NameError:\n",
    "    print(\"aa\")"
   ]
  },
  {
   "cell_type": "code",
   "execution_count": 49,
   "id": "9f73d75f",
   "metadata": {},
   "outputs": [],
   "source": [
    "import random\n",
    "\n",
    "random.random\n",
    "def calc_degree(n):\n",
    "    return n*n\n"
   ]
  },
  {
   "cell_type": "code",
   "execution_count": 50,
   "id": "cbd887d7",
   "metadata": {},
   "outputs": [
    {
     "data": {
      "text/plain": [
       "100"
      ]
     },
     "execution_count": 50,
     "metadata": {},
     "output_type": "execute_result"
    }
   ],
   "source": [
    "calc_degree(10)"
   ]
  },
  {
   "cell_type": "code",
   "execution_count": 51,
   "id": "2060660e",
   "metadata": {},
   "outputs": [],
   "source": [
    "import os\n"
   ]
  },
  {
   "cell_type": "code",
   "execution_count": 52,
   "id": "7915d891",
   "metadata": {},
   "outputs": [],
   "source": [
    "file = os.listdir(\"C:\\\\Users\\\\aya mostafa\\\\Desktop\\\\diploma\\\\sourse\")"
   ]
  },
  {
   "cell_type": "code",
   "execution_count": 53,
   "id": "bee96ab4",
   "metadata": {},
   "outputs": [
    {
     "name": "stdout",
     "output_type": "stream",
     "text": [
      "['code', 'sesion']\n"
     ]
    }
   ],
   "source": [
    "print(file)"
   ]
  },
  {
   "cell_type": "code",
   "execution_count": 54,
   "id": "0ff5f458",
   "metadata": {},
   "outputs": [
    {
     "data": {
      "text/plain": [
       "'C:\\\\Users\\\\aya mostafa\\\\Desktop\\\\diploma\\\\sourse\\\\testt.txt'"
      ]
     },
     "execution_count": 54,
     "metadata": {},
     "output_type": "execute_result"
    }
   ],
   "source": [
    "base_dire=\"C:\\\\Users\\\\aya mostafa\\\\Desktop\\\\diploma\\\\sourse\"\n",
    "fie_name=\"testt.txt\"\n",
    "file_root_path=os.path.join(base_dire,fie_name)\n",
    "file_root_path\n"
   ]
  },
  {
   "cell_type": "code",
   "execution_count": 56,
   "id": "25d08776",
   "metadata": {},
   "outputs": [
    {
     "name": "stdout",
     "output_type": "stream",
     "text": [
      "directory already exists C:\\Users\\aya mostafa\\Desktop\\diploma\\sourse\n"
     ]
    }
   ],
   "source": [
    "import os\n",
    "dir_1=\"C:\\\\Users\\\\aya mostafa\\\\Desktop\\\\diploma\\\\sourse\"\n",
    "if not os.path.exists(dir_1):\n",
    "    os.makedirs(dir_1)\n",
    "else:\n",
    "    print(\"directory already exists\",dir_1)"
   ]
  },
  {
   "cell_type": "code",
   "execution_count": 57,
   "id": "1f22100f",
   "metadata": {},
   "outputs": [],
   "source": [
    "import os\n",
    "path=\"C:\\\\Users\\\\aya mostafa\\\\Desktop\\\\diploma\\\\sourse\"\n",
    "if not os.path.exists(path):\n",
    "    os.makedirs(path)\n",
    "for i in range(20):\n",
    "    inner_path=os.path.join(path+\"dir\"+str(i))\n",
    "    if not os.path.exists(inner_path):\n",
    "        os.makedirs(inner_path)\n",
    "    "
   ]
  },
  {
   "cell_type": "code",
   "execution_count": 1,
   "id": "f244083f",
   "metadata": {},
   "outputs": [],
   "source": [
    "def fectoial(num):\n",
    "    \"\"\"\n",
    "    \n",
    "    \n",
    "    \n",
    "    \"\"\"\n",
    "    if num==0:\n",
    "        return 0\n",
    "    if num==1:\n",
    "        return 1\n",
    "    return num*fectoial(num-1)\n",
    " "
   ]
  },
  {
   "cell_type": "code",
   "execution_count": 2,
   "id": "c8fc401d",
   "metadata": {},
   "outputs": [
    {
     "data": {
      "text/plain": [
       "120"
      ]
     },
     "execution_count": 2,
     "metadata": {},
     "output_type": "execute_result"
    }
   ],
   "source": [
    "fectoial(5)"
   ]
  },
  {
   "cell_type": "code",
   "execution_count": 3,
   "id": "01e46374",
   "metadata": {},
   "outputs": [],
   "source": [
    "from math import factorial"
   ]
  },
  {
   "cell_type": "code",
   "execution_count": 4,
   "id": "cf7a14a9",
   "metadata": {},
   "outputs": [
    {
     "data": {
      "text/plain": [
       "120"
      ]
     },
     "execution_count": 4,
     "metadata": {},
     "output_type": "execute_result"
    }
   ],
   "source": [
    "factorial(5)"
   ]
  },
  {
   "cell_type": "code",
   "execution_count": null,
   "id": "5042314e",
   "metadata": {},
   "outputs": [
    {
     "data": {
      "text/plain": [
       "'$'"
      ]
     },
     "execution_count": 12,
     "metadata": {},
     "output_type": "execute_result"
    }
   ],
   "source": [
    "import random\n",
    "def generat_password(length):\n",
    "   characters= \"abcdefghijklmnopqrstuvwxyzABCDEFGHIJKLMNOPQRSTUVWXYZ1234567890!@#$%^&*\"\n",
    "   password=\"\"\n",
    "   for _ in range(length):\n",
    "       password+=random.choice(characters)\n",
    "       return password\n",
    "\n",
    "    "
   ]
  },
  {
   "cell_type": "code",
   "execution_count": 3,
   "id": "df9d9b09",
   "metadata": {},
   "outputs": [
    {
     "name": "stdout",
     "output_type": "stream",
     "text": [
      "Folder contents: ['code', 'sesion', 'testt.txt']\n"
     ]
    }
   ],
   "source": [
    "import os\n",
    "\n",
    "def open_or_create_folder(folder_path):\n",
    "    \"\"\"\n",
    "    Opens a folder by checking if it exists, and creates it if not.\n",
    "\n",
    "    :param folder_path: The path to the folder.\n",
    "    :type folder_path: str\n",
    "\n",
    "    :return: List of items (files/folders) in the folder after ensuring it exists.\n",
    "    :rtype: list\n",
    "    \"\"\"\n",
    "    if not os.path.exists(folder_path):\n",
    "        os.makedirs(folder_path)  \n",
    "\n",
    "    return os.listdir(folder_path)\n",
    "path = \"C:\\\\Users\\\\aya mostafa\\\\Desktop\\\\diploma\\\\sourse\"\n",
    "text = open_or_create_folder(path)\n",
    "print(\"Folder contents:\", text)"
   ]
  },
  {
   "cell_type": "code",
   "execution_count": null,
   "id": "24f20323",
   "metadata": {},
   "outputs": [
    {
     "name": "stdout",
     "output_type": "stream",
     "text": [
      "Created files: ['file_0.txt', 'file_1.txt', 'file_2.txt', 'file_3.txt', 'file_4.txt', 'file_5.txt', 'file_6.txt', 'file_7.txt', 'file_8.txt', 'file_9.txt', 'file_10.txt', 'file_11.txt', 'file_12.txt', 'file_13.txt', 'file_14.txt', 'file_15.txt', 'file_16.txt', 'file_17.txt', 'file_18.txt', 'file_19.txt']\n"
     ]
    }
   ],
   "source": [
    "import os\n",
    "\n",
    "def create_files_in_folder(path_folder, number_files):\n",
    "    \"\"\"\n",
    "    Creates a specified number of text files in the given folder.\n",
    "\n",
    "    :param folder_path: The path to the folder.\n",
    "    :type folder_path: str\n",
    "\n",
    "    :param number_of_files: Number of files to create.\n",
    "    :type number_of_files: int\n",
    "\n",
    "    :raises ValueError: If the number of files is negative.\n",
    "\n",
    "    :return: List of created file names.\n",
    "    :rtype: list\n",
    "    \"\"\"\n",
    "    if number_files < 0:\n",
    "        return ValueError(\"Number of files must be non-negative.\")\n",
    "\n",
    "    created_files = []\n",
    "\n",
    "    for i in range(number_files):\n",
    "        file_name = f\"file_{i}.txt\"\n",
    "        inner_path= os.path.join(path_folder, file_name)\n",
    "        with open(inner_path, 'w') as file:\n",
    "            file.write(f\"This is file number {i}\\n\")\n",
    "        created_files.append(file_name)\n",
    "\n",
    "    return created_files\n",
    "path = \"C:\\\\Users\\\\aya mostafa\\\\Desktop\\\\diploma\\\\sourse\"\n",
    "created = create_files_in_folder(path, 20)\n",
    "print(\"Created files:\", created)"
   ]
  },
  {
   "cell_type": "code",
   "execution_count": null,
   "id": "806c27eb",
   "metadata": {},
   "outputs": [
    {
     "name": "stdout",
     "output_type": "stream",
     "text": [
      "Number of files: 23\n"
     ]
    }
   ],
   "source": [
    "import os\n",
    "\n",
    "def count_files_in_folder(folder_path):\n",
    "    \"\"\"\n",
    "    Counts the number of files (not folders) inside the specified folder.\n",
    "\n",
    "    :param folder_path: The path to the folder.\n",
    "    :type folder_path: str\n",
    "\n",
    "    :return: Number of files in the folder.\n",
    "    :rtype: int\n",
    "    \"\"\"\n",
    "    all_content = os.listdir(folder_path)  \n",
    "    count = 0\n",
    "\n",
    "    for item in all_content:\n",
    "        full_path = os.path.join(folder_path, item)\n",
    "        if os.path.isfile(full_path):  \n",
    "            count += 1\n",
    "\n",
    "    return count\n",
    "path = \"C:\\\\Users\\\\aya mostafa\\\\Desktop\\\\diploma\\\\sourse\"\n",
    "num_files = count_files_in_folder(path)\n",
    "print(\"Number of files:\", num_files)"
   ]
  },
  {
   "cell_type": "code",
   "execution_count": null,
   "id": "e6f4a739",
   "metadata": {},
   "outputs": [],
   "source": []
  }
 ],
 "metadata": {
  "kernelspec": {
   "display_name": "Python 3",
   "language": "python",
   "name": "python3"
  },
  "language_info": {
   "codemirror_mode": {
    "name": "ipython",
    "version": 3
   },
   "file_extension": ".py",
   "mimetype": "text/x-python",
   "name": "python",
   "nbconvert_exporter": "python",
   "pygments_lexer": "ipython3",
   "version": "3.12.9"
  }
 },
 "nbformat": 4,
 "nbformat_minor": 5
}
