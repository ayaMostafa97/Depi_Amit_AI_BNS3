{
 "cells": [
  {
   "cell_type": "code",
   "execution_count": null,
   "id": "39c7934d",
   "metadata": {},
   "outputs": [],
   "source": [
    "x=5"
   ]
  },
  {
   "cell_type": "code",
   "execution_count": 2,
   "id": "5fb43191",
   "metadata": {},
   "outputs": [
    {
     "name": "stdout",
     "output_type": "stream",
     "text": [
      "hello world\n"
     ]
    }
   ],
   "source": [
    "print(\"hello world\")"
   ]
  },
  {
   "cell_type": "code",
   "execution_count": 3,
   "id": "400650bc",
   "metadata": {},
   "outputs": [],
   "source": [
    "x=10"
   ]
  },
  {
   "cell_type": "code",
   "execution_count": 4,
   "id": "c51a2a99",
   "metadata": {},
   "outputs": [
    {
     "data": {
      "text/plain": [
       "int"
      ]
     },
     "execution_count": 4,
     "metadata": {},
     "output_type": "execute_result"
    }
   ],
   "source": [
    "type(x)"
   ]
  },
  {
   "cell_type": "code",
   "execution_count": 5,
   "id": "b0ddbbea",
   "metadata": {},
   "outputs": [
    {
     "name": "stdout",
     "output_type": "stream",
     "text": [
      "10\n"
     ]
    }
   ],
   "source": [
    "print(x)"
   ]
  },
  {
   "cell_type": "code",
   "execution_count": 6,
   "id": "4684c718",
   "metadata": {},
   "outputs": [],
   "source": [
    "x=\"aya\""
   ]
  },
  {
   "cell_type": "code",
   "execution_count": 7,
   "id": "0384fa74",
   "metadata": {},
   "outputs": [
    {
     "data": {
      "text/plain": [
       "'0x13273dd6670'"
      ]
     },
     "execution_count": 7,
     "metadata": {},
     "output_type": "execute_result"
    }
   ],
   "source": [
    "hex(id(x))"
   ]
  },
  {
   "cell_type": "code",
   "execution_count": 8,
   "id": "e16ad5e9",
   "metadata": {},
   "outputs": [
    {
     "data": {
      "text/plain": [
       "5"
      ]
     },
     "execution_count": 8,
     "metadata": {},
     "output_type": "execute_result"
    }
   ],
   "source": [
    "2+3"
   ]
  },
  {
   "cell_type": "code",
   "execution_count": 10,
   "id": "f6b6e2ff",
   "metadata": {},
   "outputs": [
    {
     "name": "stdout",
     "output_type": "stream",
     "text": [
      "programme\n"
     ]
    }
   ],
   "source": [
    "# this variable ....... شكل الكومنت\n",
    "print(\"programme\")\n",
    "# print (\"secion\")"
   ]
  },
  {
   "cell_type": "code",
   "execution_count": 15,
   "id": "b2192c86",
   "metadata": {},
   "outputs": [
    {
     "data": {
      "text/plain": [
       "' this variable .......\\nشكل تاني للكومنت لو عايز اكتب في اكتر من سطر '"
      ]
     },
     "execution_count": 15,
     "metadata": {},
     "output_type": "execute_result"
    }
   ],
   "source": [
    "\"\"\" this variable .......\n",
    "شكل تاني للكومنت لو عايز اكتب في اكتر من سطر \"\"\""
   ]
  },
  {
   "cell_type": "code",
   "execution_count": 13,
   "id": "2467a5f4",
   "metadata": {},
   "outputs": [],
   "source": [
    "x = \"\"\"vvvnnama,,a\"\"\""
   ]
  },
  {
   "cell_type": "code",
   "execution_count": 14,
   "id": "4d41d59f",
   "metadata": {},
   "outputs": [
    {
     "data": {
      "text/plain": [
       "'vvvnnama,,a'"
      ]
     },
     "execution_count": 14,
     "metadata": {},
     "output_type": "execute_result"
    }
   ],
   "source": [
    "x"
   ]
  },
  {
   "cell_type": "code",
   "execution_count": 18,
   "id": "7e6c51f4",
   "metadata": {},
   "outputs": [],
   "source": [
    "age=50\n",
    "name =\"aya\""
   ]
  },
  {
   "cell_type": "code",
   "execution_count": 23,
   "id": "c3f5e31b",
   "metadata": {},
   "outputs": [
    {
     "name": "stdout",
     "output_type": "stream",
     "text": [
      "may name is aya, my age is 50\n"
     ]
    }
   ],
   "source": [
    "print(\"may name is {0}, my age is {1}\".format(name,age))\n"
   ]
  },
  {
   "cell_type": "code",
   "execution_count": 24,
   "id": "f29361ff",
   "metadata": {},
   "outputs": [
    {
     "name": "stdout",
     "output_type": "stream",
     "text": [
      "My name is aya,and my age is 50\n"
     ]
    }
   ],
   "source": [
    "print(f\"My name is {name},and my age is {age}\")"
   ]
  },
  {
   "cell_type": "code",
   "execution_count": 25,
   "id": "6cf4f76e",
   "metadata": {},
   "outputs": [
    {
     "data": {
      "text/plain": [
       "list"
      ]
     },
     "execution_count": 25,
     "metadata": {},
     "output_type": "execute_result"
    }
   ],
   "source": [
    "list_1=[1,2,3]\n",
    "type(list_1)"
   ]
  },
  {
   "cell_type": "code",
   "execution_count": 26,
   "id": "32a9ffda",
   "metadata": {},
   "outputs": [
    {
     "data": {
      "text/plain": [
       "['a', 'y', 'a']"
      ]
     },
     "execution_count": 26,
     "metadata": {},
     "output_type": "execute_result"
    }
   ],
   "source": [
    "list_2=\"aya\"\n",
    "list(list_2)"
   ]
  },
  {
   "cell_type": "code",
   "execution_count": 30,
   "id": "172fce84",
   "metadata": {},
   "outputs": [
    {
     "data": {
      "text/plain": [
       "'ai'"
      ]
     },
     "execution_count": 30,
     "metadata": {},
     "output_type": "execute_result"
    }
   ],
   "source": [
    "str_1=\"amit learning\"\n",
    "str_1[0:4:2]"
   ]
  },
  {
   "cell_type": "code",
   "execution_count": 31,
   "id": "97931540",
   "metadata": {},
   "outputs": [
    {
     "name": "stdout",
     "output_type": "stream",
     "text": [
      "hello learning\n"
     ]
    }
   ],
   "source": [
    "name=\"amit learning\"\n",
    "print(name.replace(\"amit\",\"hello\"))"
   ]
  },
  {
   "cell_type": "code",
   "execution_count": 34,
   "id": "74f7136c",
   "metadata": {},
   "outputs": [
    {
     "name": "stdout",
     "output_type": "stream",
     "text": [
      "amit learning\n",
      "Amit learning\n",
      "AMIT LEARNING\n"
     ]
    }
   ],
   "source": [
    "name=\"AMIt learning\"\n",
    "print(name.lower())\n",
    "print(name.capitalize())\n",
    "print(name.upper())"
   ]
  },
  {
   "cell_type": "code",
   "execution_count": 36,
   "id": "da1b089f",
   "metadata": {},
   "outputs": [
    {
     "name": "stdout",
     "output_type": "stream",
     "text": [
      "2\n",
      "['amit', 'learning', 'amit', 'learning']\n"
     ]
    }
   ],
   "source": [
    "name=\"amit learning amit learning\"\n",
    "print(name.count(\"amit\"))\n",
    "print(name.split())"
   ]
  },
  {
   "cell_type": "code",
   "execution_count": 37,
   "id": "3acdadb6",
   "metadata": {},
   "outputs": [
    {
     "name": "stdout",
     "output_type": "stream",
     "text": [
      "this is words\n"
     ]
    }
   ],
   "source": [
    "words=[\"this\",\"is\",\"words\"]\n",
    "sentence=\" \".join(words)\n",
    "print(sentence)"
   ]
  },
  {
   "cell_type": "code",
   "execution_count": 38,
   "id": "eff8f049",
   "metadata": {},
   "outputs": [
    {
     "data": {
      "text/plain": [
       "[1, 2, 3, 4, 1, 2, 3, 4, 1, 2, 3, 4]"
      ]
     },
     "execution_count": 38,
     "metadata": {},
     "output_type": "execute_result"
    }
   ],
   "source": [
    "list_3=[1,2,3,4]\n",
    "list_3*3"
   ]
  },
  {
   "cell_type": "code",
   "execution_count": 41,
   "id": "fb6728f7",
   "metadata": {},
   "outputs": [],
   "source": [
    "list_3=[\"ahmed\",2,200,True]\n",
    "len(list_3)\n",
    "x=list_3 +[\"aya\"]"
   ]
  },
  {
   "cell_type": "code",
   "execution_count": 43,
   "id": "d3d52bda",
   "metadata": {},
   "outputs": [
    {
     "data": {
      "text/plain": [
       "['ahmed', 2, 200, True]"
      ]
     },
     "execution_count": 43,
     "metadata": {},
     "output_type": "execute_result"
    }
   ],
   "source": [
    "list_3"
   ]
  },
  {
   "cell_type": "code",
   "execution_count": 44,
   "id": "910e7af3",
   "metadata": {},
   "outputs": [
    {
     "data": {
      "text/plain": [
       "bool"
      ]
     },
     "execution_count": 44,
     "metadata": {},
     "output_type": "execute_result"
    }
   ],
   "source": [
    "x=True\n",
    "type(x)"
   ]
  },
  {
   "cell_type": "code",
   "execution_count": 45,
   "id": "b0dfa5f6",
   "metadata": {},
   "outputs": [
    {
     "data": {
      "text/plain": [
       "True"
      ]
     },
     "execution_count": 45,
     "metadata": {},
     "output_type": "execute_result"
    }
   ],
   "source": [
    "1<2"
   ]
  },
  {
   "cell_type": "code",
   "execution_count": 46,
   "id": "fadedfe3",
   "metadata": {},
   "outputs": [
    {
     "data": {
      "text/plain": [
       "'v2'"
      ]
     },
     "execution_count": 46,
     "metadata": {},
     "output_type": "execute_result"
    }
   ],
   "source": [
    "dic_1={\"ky_1\":\"v1\",\"key_2\":\"v2\"}\n",
    "dic_1[\"key_2\"]"
   ]
  },
  {
   "cell_type": "code",
   "execution_count": 47,
   "id": "12531bb3",
   "metadata": {},
   "outputs": [
    {
     "data": {
      "text/plain": [
       "False"
      ]
     },
     "execution_count": 47,
     "metadata": {},
     "output_type": "execute_result"
    }
   ],
   "source": [
    "1==2"
   ]
  },
  {
   "cell_type": "code",
   "execution_count": 48,
   "id": "a3f1ebd2",
   "metadata": {},
   "outputs": [
    {
     "data": {
      "text/plain": [
       "True"
      ]
     },
     "execution_count": 48,
     "metadata": {},
     "output_type": "execute_result"
    }
   ],
   "source": [
    "1!=2"
   ]
  },
  {
   "cell_type": "code",
   "execution_count": 49,
   "id": "36620d64",
   "metadata": {},
   "outputs": [
    {
     "data": {
      "text/plain": [
       "True"
      ]
     },
     "execution_count": 49,
     "metadata": {},
     "output_type": "execute_result"
    }
   ],
   "source": [
    "\"x\" in \"box\""
   ]
  },
  {
   "cell_type": "code",
   "execution_count": 50,
   "id": "f80f1008",
   "metadata": {},
   "outputs": [
    {
     "data": {
      "text/plain": [
       "False"
      ]
     },
     "execution_count": 50,
     "metadata": {},
     "output_type": "execute_result"
    }
   ],
   "source": [
    "\"x\" not in \"box\""
   ]
  },
  {
   "cell_type": "code",
   "execution_count": null,
   "id": "2155f0fc",
   "metadata": {},
   "outputs": [
    {
     "data": {
      "text/plain": [
       "11"
      ]
     },
     "execution_count": 51,
     "metadata": {},
     "output_type": "execute_result"
    }
   ],
   "source": [
    "s=\"welcome to depi\"\n",
    "s.find(\"depi\") # جاب الانديكس بتاع اول حرف من الكلمه"
   ]
  },
  {
   "cell_type": "code",
   "execution_count": 54,
   "id": "fe1dc487",
   "metadata": {},
   "outputs": [
    {
     "data": {
      "text/plain": [
       "'depi'"
      ]
     },
     "execution_count": 54,
     "metadata": {},
     "output_type": "execute_result"
    }
   ],
   "source": [
    "s=(\"     depi     \")\n",
    "s.strip()"
   ]
  },
  {
   "cell_type": "code",
   "execution_count": 56,
   "id": "e86060ec",
   "metadata": {},
   "outputs": [],
   "source": [
    "std_name=input(\"enter your name\")"
   ]
  },
  {
   "cell_type": "code",
   "execution_count": 57,
   "id": "e005ad5a",
   "metadata": {},
   "outputs": [
    {
     "data": {
      "text/plain": [
       "str"
      ]
     },
     "execution_count": 57,
     "metadata": {},
     "output_type": "execute_result"
    }
   ],
   "source": [
    "type(std_name)"
   ]
  },
  {
   "cell_type": "code",
   "execution_count": 58,
   "id": "c349b4ee",
   "metadata": {},
   "outputs": [],
   "source": [
    "std_age=int(input(\"enter your age\"))"
   ]
  },
  {
   "cell_type": "code",
   "execution_count": 59,
   "id": "6e063e99",
   "metadata": {},
   "outputs": [
    {
     "data": {
      "text/plain": [
       "int"
      ]
     },
     "execution_count": 59,
     "metadata": {},
     "output_type": "execute_result"
    }
   ],
   "source": [
    "type(std_age)"
   ]
  },
  {
   "cell_type": "code",
   "execution_count": 61,
   "id": "035e535d",
   "metadata": {},
   "outputs": [
    {
     "name": "stdout",
     "output_type": "stream",
     "text": [
      "the multiple of num_12 and num_23 is 6\n"
     ]
    }
   ],
   "source": [
    "num_1 =int(input(\"enter num1\"))\n",
    "num_2 =int(input(\"enter num2\"))\n",
    "mult = num_1 * num_2\n",
    "print(f\"the multiple of num_1{num_1} and num_2{num_2} is\", mult)"
   ]
  },
  {
   "cell_type": "code",
   "execution_count": 62,
   "id": "fe376876",
   "metadata": {},
   "outputs": [
    {
     "name": "stdout",
     "output_type": "stream",
     "text": [
      "the multiple of num_12 and num_23 is 5\n"
     ]
    }
   ],
   "source": [
    "num_1 =int(input(\"enter num1\"))\n",
    "num_2 =int(input(\"enter num2\"))\n",
    "sum = num_1 + num_2\n",
    "print(f\"the multiple of num_1{num_1} and num_2{num_2} is\",sum)"
   ]
  },
  {
   "cell_type": "code",
   "execution_count": 63,
   "id": "45e2c5e2",
   "metadata": {},
   "outputs": [
    {
     "name": "stdout",
     "output_type": "stream",
     "text": [
      "the multiple of num_14 and num_22 is 2\n"
     ]
    }
   ],
   "source": [
    "num_1 =int(input(\"enter num1\"))\n",
    "num_2 =int(input(\"enter num2\"))\n",
    "sub = num_1 - num_2\n",
    "print(f\"the multiple of num_1{num_1} and num_2{num_2} is\",sub)"
   ]
  },
  {
   "cell_type": "code",
   "execution_count": 64,
   "id": "98ba2e54",
   "metadata": {},
   "outputs": [
    {
     "name": "stdout",
     "output_type": "stream",
     "text": [
      "the multiple of num_14 and num_22 is 2.0\n"
     ]
    }
   ],
   "source": [
    "num_1 =int(input(\"enter num1\"))\n",
    "num_2 =int(input(\"enter num2\"))\n",
    "div = num_1 / num_2\n",
    "print(f\"the multiple of num_1{num_1} and num_2{num_2} is\",div)"
   ]
  },
  {
   "cell_type": "code",
   "execution_count": 4,
   "id": "b36b3cd8",
   "metadata": {},
   "outputs": [
    {
     "name": "stdout",
     "output_type": "stream",
     "text": [
      "decoded_message Welcom PGTQ\n"
     ]
    }
   ],
   "source": [
    "encoded_message = \"###!!@mocleW EPGTQ!!!6789\"\n",
    "start = encoded_message.find(\"@\")+1\n",
    "end = encoded_message.find(\"!!!\")\n",
    "core_part=encoded_message[start:end]\n",
    "words=core_part.split()\n",
    "first_name=words[0][::-1]\n",
    "second_name=words[1][1::]\n",
    "decoded_message=first_name + \" \" + second_name\n",
    "print(\"decoded_message\",decoded_message)\n"
   ]
  },
  {
   "cell_type": "code",
   "execution_count": 1,
   "id": "01492a0d",
   "metadata": {},
   "outputs": [],
   "source": [
    "list_1=[1,2,3,4,\"Depi\",\"Learning\",True,[1,2,3,\"true\",[\"ML\",\"Dl\",\"Ds\"]]]"
   ]
  },
  {
   "cell_type": "code",
   "execution_count": 3,
   "id": "a45891b3",
   "metadata": {},
   "outputs": [
    {
     "data": {
      "text/plain": [
       "'Depi'"
      ]
     },
     "execution_count": 3,
     "metadata": {},
     "output_type": "execute_result"
    }
   ],
   "source": [
    "list_1[4]"
   ]
  },
  {
   "cell_type": "code",
   "execution_count": 6,
   "id": "466f2674",
   "metadata": {},
   "outputs": [
    {
     "data": {
      "text/plain": [
       "'Dl'"
      ]
     },
     "execution_count": 6,
     "metadata": {},
     "output_type": "execute_result"
    }
   ],
   "source": [
    "list_1[7][4][1]"
   ]
  },
  {
   "cell_type": "code",
   "execution_count": null,
   "id": "20cd7982",
   "metadata": {},
   "outputs": [],
   "source": [
    "#لو عيز اغير قيمه اي idex\n",
    "list_1[4]=\"amit\""
   ]
  },
  {
   "cell_type": "code",
   "execution_count": 8,
   "id": "d3db53ce",
   "metadata": {},
   "outputs": [
    {
     "data": {
      "text/plain": [
       "[1, 2, 3, 4, 'amit', 'Learning', True, [1, 2, 3, 'true', ['ML', 'Dl', 'Ds']]]"
      ]
     },
     "execution_count": 8,
     "metadata": {},
     "output_type": "execute_result"
    }
   ],
   "source": [
    "list_1"
   ]
  },
  {
   "cell_type": "code",
   "execution_count": null,
   "id": "1b817334",
   "metadata": {},
   "outputs": [
    {
     "name": "stdout",
     "output_type": "stream",
     "text": [
      "<class 'str'>\n",
      "<class 'list'>\n"
     ]
    }
   ],
   "source": [
    "x=\"aya\"\n",
    "print(type(x))\n",
    "y=list(x)\n",
    "print(type(y))\n"
   ]
  },
  {
   "cell_type": "code",
   "execution_count": 10,
   "id": "dce61117",
   "metadata": {},
   "outputs": [
    {
     "data": {
      "text/plain": [
       "['Depi', 'Data', 'science', 'Machine learning']"
      ]
     },
     "execution_count": 10,
     "metadata": {},
     "output_type": "execute_result"
    }
   ],
   "source": [
    "list_11=[\"Depi\",\"Data\",\"science\"]\n",
    "list_11.append(\"Machine learning\")\n",
    "list_11"
   ]
  },
  {
   "cell_type": "code",
   "execution_count": 12,
   "id": "af7480d6",
   "metadata": {},
   "outputs": [
    {
     "data": {
      "text/plain": [
       "['machine learning', 'Depi', 'Data', 'science']"
      ]
     },
     "execution_count": 12,
     "metadata": {},
     "output_type": "execute_result"
    }
   ],
   "source": [
    "list_11=[\"Depi\",\"Data\",\"science\"]\n",
    "list_11.insert(0,\"machine learning\")\n",
    "list_11"
   ]
  },
  {
   "cell_type": "code",
   "execution_count": 14,
   "id": "4d9b4d43",
   "metadata": {},
   "outputs": [
    {
     "data": {
      "text/plain": [
       "[1, 2, 3, 4, 5, 6]"
      ]
     },
     "execution_count": 14,
     "metadata": {},
     "output_type": "execute_result"
    }
   ],
   "source": [
    "x=[1,2,3]\n",
    "y=[4,5,6]\n",
    "x.extend(y)\n",
    "x"
   ]
  },
  {
   "cell_type": "code",
   "execution_count": 18,
   "id": "d63feee9",
   "metadata": {},
   "outputs": [
    {
     "data": {
      "text/plain": [
       "['Data', 'science']"
      ]
     },
     "execution_count": 18,
     "metadata": {},
     "output_type": "execute_result"
    }
   ],
   "source": [
    "# remove..... بتزيل الitem بس لو عندي كذا حاجه متكرره بتحذف اول item بتقابله\n",
    "#pop.........بتحذف و تعمل print لل items\n",
    "#del........بتحذف ال list كلها او item معين\n",
    "list_11=[\"Depi\",\"Data\",\"science\"]\n",
    "list_11.remove(\"Depi\")\n",
    "list_11\n",
    "\n",
    "\n"
   ]
  },
  {
   "cell_type": "code",
   "execution_count": 19,
   "id": "771b5c02",
   "metadata": {},
   "outputs": [
    {
     "data": {
      "text/plain": [
       "['Data', 'science']"
      ]
     },
     "execution_count": 19,
     "metadata": {},
     "output_type": "execute_result"
    }
   ],
   "source": [
    "list_11=[\"Depi\",\"Data\",\"science\"]\n",
    "list_11.pop(0)\n",
    "list_11"
   ]
  },
  {
   "cell_type": "code",
   "execution_count": 20,
   "id": "4093badb",
   "metadata": {},
   "outputs": [
    {
     "name": "stdout",
     "output_type": "stream",
     "text": [
      "science\n"
     ]
    }
   ],
   "source": [
    "list_11=[\"Depi\",\"Data\",\"science\"]\n",
    "print(list_11.pop())"
   ]
  },
  {
   "cell_type": "code",
   "execution_count": 22,
   "id": "f2a3088c",
   "metadata": {},
   "outputs": [
    {
     "data": {
      "text/plain": [
       "[1, 2, 3, 4, 5, 9]"
      ]
     },
     "execution_count": 22,
     "metadata": {},
     "output_type": "execute_result"
    }
   ],
   "source": [
    "my_list=[3,4,2,5,1,9]\n",
    "my_list.sort()\n",
    "my_list"
   ]
  },
  {
   "cell_type": "code",
   "execution_count": 23,
   "id": "e1b9e58a",
   "metadata": {},
   "outputs": [
    {
     "data": {
      "text/plain": [
       "[]"
      ]
     },
     "execution_count": 23,
     "metadata": {},
     "output_type": "execute_result"
    }
   ],
   "source": [
    "my_list=[3,4,2,5,1,9,3,2]\n",
    "my_list.clear()\n",
    "my_list"
   ]
  },
  {
   "cell_type": "code",
   "execution_count": null,
   "id": "d1d31ac9",
   "metadata": {},
   "outputs": [
    {
     "data": {
      "text/plain": [
       "'Depi'"
      ]
     },
     "execution_count": 24,
     "metadata": {},
     "output_type": "execute_result"
    }
   ],
   "source": [
    "tuple_1=(1,2,3,4,\"Depi\",\"Learning\",True,[1,2,3,\"true\",(\"ML\",\"Dl\",\"Ds\")])\n",
    "tuple_1[4]"
   ]
  },
  {
   "cell_type": "code",
   "execution_count": 29,
   "id": "fb4f2df2",
   "metadata": {},
   "outputs": [
    {
     "name": "stdout",
     "output_type": "stream",
     "text": [
      "[1, 2, 3, 4, 'Depi', 'Learning', True, [1, 2, 3, 'true', ('ML', 'Dl', 'Ds')]]\n",
      "<class 'list'>\n",
      "<class 'tuple'>\n"
     ]
    }
   ],
   "source": [
    "tuple_1=(1,2,3,4,\"Depi\",\"Learning\",True,[1,2,3,\"true\",(\"ML\",\"Dl\",\"Ds\")])\n",
    "x=list(tuple_1)\n",
    "print(x)\n",
    "print(type(x))\n",
    "x[4]=\"Amit\"\n",
    "x\n",
    "y=tuple(x)\n",
    "print(type(y))"
   ]
  },
  {
   "cell_type": "code",
   "execution_count": 31,
   "id": "5186b020",
   "metadata": {},
   "outputs": [
    {
     "data": {
      "text/plain": [
       "set"
      ]
     },
     "execution_count": 31,
     "metadata": {},
     "output_type": "execute_result"
    }
   ],
   "source": [
    "x2=[\"ahmed\",\"aly\",\"mona\",\"aya\"]\n",
    "x3=set(x2)\n",
    "type(x3)"
   ]
  },
  {
   "cell_type": "code",
   "execution_count": 32,
   "id": "c9a7214e",
   "metadata": {},
   "outputs": [
    {
     "ename": "TypeError",
     "evalue": "'set' object is not subscriptable",
     "output_type": "error",
     "traceback": [
      "\u001b[31m---------------------------------------------------------------------------\u001b[39m",
      "\u001b[31mTypeError\u001b[39m                                 Traceback (most recent call last)",
      "\u001b[36mCell\u001b[39m\u001b[36m \u001b[39m\u001b[32mIn[32]\u001b[39m\u001b[32m, line 1\u001b[39m\n\u001b[32m----> \u001b[39m\u001b[32m1\u001b[39m \u001b[43mx3\u001b[49m\u001b[43m[\u001b[49m\u001b[32;43m0\u001b[39;49m\u001b[43m]\u001b[49m\n",
      "\u001b[31mTypeError\u001b[39m: 'set' object is not subscriptable"
     ]
    }
   ],
   "source": [
    "x3[0]"
   ]
  },
  {
   "cell_type": "code",
   "execution_count": 34,
   "id": "7081a24a",
   "metadata": {},
   "outputs": [
    {
     "data": {
      "text/plain": [
       "{'Key1': 12.7, 'key2': 'Depi', 'key3': 'Python', 'key1': 'Amit'}"
      ]
     },
     "execution_count": 34,
     "metadata": {},
     "output_type": "execute_result"
    }
   ],
   "source": [
    "dict_1={\"Key1\":12.7 , \"key2\": \"Depi\" , \"key3\":\"Python\"}\n",
    "dict_1[\"key1\"]=\"Amit\"\n",
    "dict_1"
   ]
  },
  {
   "cell_type": "code",
   "execution_count": 35,
   "id": "5a300011",
   "metadata": {},
   "outputs": [
    {
     "data": {
      "text/plain": [
       "(('a', 1), ('b', 2))"
      ]
     },
     "execution_count": 35,
     "metadata": {},
     "output_type": "execute_result"
    }
   ],
   "source": [
    "list_1=[(\"a\",1),(\"b\",2)]\n",
    "list_1\n",
    "zz=tuple(list_1)\n",
    "zz"
   ]
  },
  {
   "cell_type": "code",
   "execution_count": null,
   "id": "c822e42d",
   "metadata": {},
   "outputs": [
    {
     "name": "stdout",
     "output_type": "stream",
     "text": [
      "A\n"
     ]
    }
   ],
   "source": [
    "student_grade=float(input(\"enter your grade\"))\n",
    "if 100>student_grade>=90:\n",
    "    grade = 'A'\n",
    "elif 80 <= student_grade < 90:\n",
    "    grade=\"B\"\n",
    "elif 70 <=student_grade < 80:\n",
    "    grade = 'C'\n",
    "elif 60 <=student_grade < 70:\n",
    "    grade = 'D'\n",
    "elif 0 <= student_grade < 60:\n",
    "    grade = 'F'\n",
    "else:\n",
    "    grade = 'Invalid degree'\n",
    "print(grade)"
   ]
  },
  {
   "cell_type": "code",
   "execution_count": 40,
   "id": "f299dbd7",
   "metadata": {},
   "outputs": [
    {
     "name": "stdout",
     "output_type": "stream",
     "text": [
      "0\n",
      "1\n",
      "2\n",
      "4\n",
      "5\n"
     ]
    }
   ],
   "source": [
    "for i in range (6):\n",
    "    if i==3:\n",
    "        continue\n",
    "    print(i)"
   ]
  },
  {
   "cell_type": "code",
   "execution_count": 41,
   "id": "426ee3a8",
   "metadata": {},
   "outputs": [
    {
     "name": "stdout",
     "output_type": "stream",
     "text": [
      "0\n",
      "1\n",
      "2\n",
      "3\n"
     ]
    }
   ],
   "source": [
    "for i in range (6):\n",
    "    if i==4:\n",
    "        break\n",
    "    print(i)"
   ]
  },
  {
   "cell_type": "code",
   "execution_count": 42,
   "id": "07f4ed02",
   "metadata": {},
   "outputs": [
    {
     "name": "stdout",
     "output_type": "stream",
     "text": [
      "0\n",
      "1\n",
      "3\n",
      "4\n",
      "5\n"
     ]
    }
   ],
   "source": [
    "for i in range (6):\n",
    "    if i==2:\n",
    "        pass\n",
    "    else:\n",
    "        print(i)"
   ]
  },
  {
   "cell_type": "code",
   "execution_count": 43,
   "id": "4c025751",
   "metadata": {},
   "outputs": [
    {
     "name": "stdout",
     "output_type": "stream",
     "text": [
      "6\n",
      "5\n",
      "4\n",
      "3\n",
      "2\n",
      "1\n"
     ]
    }
   ],
   "source": [
    "x=6\n",
    "while x>0:\n",
    "    print(x)\n",
    "    x-=1"
   ]
  },
  {
   "cell_type": "code",
   "execution_count": 44,
   "id": "37ef5c65",
   "metadata": {},
   "outputs": [],
   "source": [
    "import os\n",
    "import sys"
   ]
  },
  {
   "cell_type": "code",
   "execution_count": 51,
   "id": "7c748b0e",
   "metadata": {},
   "outputs": [],
   "source": [
    "f = open(\"C:\\\\Users\\\\aya mostafa\\\\Desktop\\\\diploma\\\\env setup\\\\test.txt\", \"r\")"
   ]
  },
  {
   "cell_type": "code",
   "execution_count": 52,
   "id": "cbe2a70d",
   "metadata": {},
   "outputs": [
    {
     "name": "stdout",
     "output_type": "stream",
     "text": [
      "hello world\n",
      "\n"
     ]
    }
   ],
   "source": [
    "print(f.read())\n",
    "all_lines=f.readlines()\n",
    "for line in all_lines:\n",
    "    print(line)\n"
   ]
  },
  {
   "cell_type": "code",
   "execution_count": 55,
   "id": "076c58dd",
   "metadata": {},
   "outputs": [],
   "source": [
    "f = open(\"C:/Users/aya mostafa/Desktop/diploma/env setup/test.txt\", \"a\")\n",
    "f.write(\"hello again depi\\n\")\n",
    "f.close()"
   ]
  },
  {
   "cell_type": "code",
   "execution_count": 56,
   "id": "56d743e7",
   "metadata": {},
   "outputs": [],
   "source": [
    "f = open(\"C:/Users/aya mostafa/Desktop/diploma/env setup/test.txt\", \"a\")\n",
    "for i in range(30):\n",
    "    f.write(\"\\nI i love python\"+ str(i))\n",
    "f.close()"
   ]
  },
  {
   "cell_type": "code",
   "execution_count": 57,
   "id": "9b3b526c",
   "metadata": {},
   "outputs": [
    {
     "name": "stdout",
     "output_type": "stream",
     "text": [
      "hello again depihello again depi\n",
      "\n",
      "I i love python0\n",
      "I i love python1\n",
      "I i love python2\n",
      "I i love python3\n",
      "I i love python4\n",
      "I i love python5\n",
      "I i love python6\n",
      "I i love python7\n",
      "I i love python8\n",
      "I i love python9\n",
      "I i love python10\n",
      "I i love python11\n",
      "I i love python12\n",
      "I i love python13\n",
      "I i love python14\n",
      "I i love python15\n",
      "I i love python16\n",
      "I i love python17\n",
      "I i love python18\n",
      "I i love python19\n",
      "I i love python20\n",
      "I i love python21\n",
      "I i love python22\n",
      "I i love python23\n",
      "I i love python24\n",
      "I i love python25\n",
      "I i love python26\n",
      "I i love python27\n",
      "I i love python28\n",
      "I i love python29\n"
     ]
    }
   ],
   "source": [
    "f = open(\"C:/Users/aya mostafa/Desktop/diploma/env setup/test.txt\", \"r\")\n",
    "print(f.read())\n",
    "f.close()"
   ]
  },
  {
   "cell_type": "code",
   "execution_count": 58,
   "id": "07e4241a",
   "metadata": {},
   "outputs": [],
   "source": [
    "import os"
   ]
  },
  {
   "cell_type": "code",
   "execution_count": null,
   "id": "9b28410c",
   "metadata": {},
   "outputs": [],
   "source": [
    "file=os.listdir"
   ]
  },
  {
   "cell_type": "code",
   "execution_count": 6,
   "id": "7af1f0f8",
   "metadata": {},
   "outputs": [
    {
     "data": {
      "text/plain": [
       "<function __main__.multi_function()>"
      ]
     },
     "execution_count": 6,
     "metadata": {},
     "output_type": "execute_result"
    }
   ],
   "source": [
    "def multi_function():\n",
    "    num_1 = int(input(\"Enter num1: \"))\n",
    "    num_2 = int(input(\"Enter num2: \"))\n",
    "    result = num_1 * num_2\n",
    "    print(f\"The multiplication of {num_1} and {num_2} is {result}\")\n",
    "multi_function"
   ]
  },
  {
   "cell_type": "code",
   "execution_count": null,
   "id": "f2b79d71",
   "metadata": {},
   "outputs": [
    {
     "name": "stdout",
     "output_type": "stream",
     "text": [
      "The multiplication of 2 and 3 is 6\n"
     ]
    }
   ],
   "source": [
    "def multi_function(num_1, num_2):\n",
    "    multi = num_1 * num_2\n",
    "    print(f\"The multiplication of {num_1} and {num_2} is {multi}\")\n",
    "\n",
    "\n",
    "x = int(input(\"Enter number 1: \"))\n",
    "y = int(input(\"Enter number 2: \"))\n",
    "\n",
    "\n",
    "multi_function(x, y)"
   ]
  },
  {
   "cell_type": "code",
   "execution_count": 11,
   "id": "d130eb75",
   "metadata": {},
   "outputs": [],
   "source": [
    "class Student:\n",
    "    name=\"AYA\"\n",
    "    age=20\n",
    "    gpa=3,4\n",
    "    gender=\"female\"\n",
    "    def info(self):\n",
    "        print(\"hello\")"
   ]
  },
  {
   "cell_type": "code",
   "execution_count": 6,
   "id": "8abad4f4",
   "metadata": {},
   "outputs": [],
   "source": [
    "s1=Student()"
   ]
  },
  {
   "cell_type": "code",
   "execution_count": 14,
   "id": "b11e0f88",
   "metadata": {},
   "outputs": [
    {
     "ename": "NameError",
     "evalue": "name 'name' is not defined",
     "output_type": "error",
     "traceback": [
      "\u001b[31m---------------------------------------------------------------------------\u001b[39m",
      "\u001b[31mNameError\u001b[39m                                 Traceback (most recent call last)",
      "\u001b[36mCell\u001b[39m\u001b[36m \u001b[39m\u001b[32mIn[14]\u001b[39m\u001b[32m, line 3\u001b[39m\n\u001b[32m      1\u001b[39m s1.age=\u001b[32m19\u001b[39m\n\u001b[32m      2\u001b[39m s1.name=\u001b[33m\"\u001b[39m\u001b[33mAYA\u001b[39m\u001b[33m\"\u001b[39m\n\u001b[32m----> \u001b[39m\u001b[32m3\u001b[39m \u001b[43ms1\u001b[49m\u001b[43m.\u001b[49m\u001b[43minfo\u001b[49m\u001b[43m(\u001b[49m\u001b[43m)\u001b[49m\n",
      "\u001b[36mCell\u001b[39m\u001b[36m \u001b[39m\u001b[32mIn[5]\u001b[39m\u001b[32m, line 7\u001b[39m, in \u001b[36mStudent.info\u001b[39m\u001b[34m(s1)\u001b[39m\n\u001b[32m      6\u001b[39m \u001b[38;5;28;01mdef\u001b[39;00m\u001b[38;5;250m \u001b[39m\u001b[34minfo\u001b[39m(s1):\n\u001b[32m----> \u001b[39m\u001b[32m7\u001b[39m     \u001b[38;5;28mprint\u001b[39m(\u001b[43mname\u001b[49m,age,gpa,gender)\n",
      "\u001b[31mNameError\u001b[39m: name 'name' is not defined"
     ]
    }
   ],
   "source": [
    "s1.age=19\n",
    "s1.name=\"AYA\"\n",
    "s1.info()"
   ]
  },
  {
   "cell_type": "code",
   "execution_count": 15,
   "id": "a1e5a69a",
   "metadata": {},
   "outputs": [],
   "source": [
    "class Student:\n",
    "    name = \"AYA\"\n",
    "    age = 20\n",
    "    gpa = 3.4\n",
    "    gender = \"female\"\n",
    "    \n",
    "    def info(self):\n",
    "        print(\"Name:\", self.name)\n",
    "        print(\"Age:\", self.age)\n",
    "        print(\"GPA:\", self.gpa)\n",
    "        print(\"Gender:\", self.gender)"
   ]
  },
  {
   "cell_type": "code",
   "execution_count": 16,
   "id": "da5d2855",
   "metadata": {},
   "outputs": [],
   "source": [
    "s1=Student"
   ]
  },
  {
   "cell_type": "code",
   "execution_count": 17,
   "id": "7efdc57e",
   "metadata": {},
   "outputs": [
    {
     "data": {
      "text/plain": [
       "<function __main__.Student.info(self)>"
      ]
     },
     "execution_count": 17,
     "metadata": {},
     "output_type": "execute_result"
    }
   ],
   "source": [
    "s1.info"
   ]
  },
  {
   "cell_type": "code",
   "execution_count": null,
   "id": "2cc77853",
   "metadata": {},
   "outputs": [],
   "source": [
    "class Stu:\n",
    "    name=\"aya\"\n",
    "    age=19\n",
    "    gpa=3.2\n",
    "    gender=\"female\"\n",
    "    def info(self):\n",
    "        print(\"hello\")"
   ]
  },
  {
   "cell_type": "code",
   "execution_count": 19,
   "id": "4b106822",
   "metadata": {},
   "outputs": [],
   "source": [
    "s1=Stu"
   ]
  },
  {
   "cell_type": "code",
   "execution_count": 20,
   "id": "7fb315f2",
   "metadata": {},
   "outputs": [
    {
     "name": "stdout",
     "output_type": "stream",
     "text": [
      "hello\n"
     ]
    }
   ],
   "source": [
    "s1.info()"
   ]
  },
  {
   "cell_type": "code",
   "execution_count": 23,
   "id": "0df57ee8",
   "metadata": {},
   "outputs": [
    {
     "name": "stdout",
     "output_type": "stream",
     "text": [
      "<__main__.test object at 0x0000025F4E26D8B0>\n"
     ]
    }
   ],
   "source": [
    "class test:\n",
    "    def info(self):\n",
    "        print(self)\n",
    "x=test()\n",
    "x\n",
    "x.info()"
   ]
  },
  {
   "cell_type": "code",
   "execution_count": null,
   "id": "afc9d484",
   "metadata": {},
   "outputs": [
    {
     "name": "stdout",
     "output_type": "stream",
     "text": [
      "<__main__.test object at 0x0000025F4E26F7A0>\n"
     ]
    }
   ],
   "source": [
    "class test:\n",
    "    def info(self):\n",
    "        print(self)\n",
    "\n",
    "x = test()     \n",
    "x.info()  "
   ]
  },
  {
   "cell_type": "code",
   "execution_count": null,
   "id": "e5a41985",
   "metadata": {},
   "outputs": [],
   "source": [
    "class Student:\n",
    "    def __init__(self, name):\n",
    "        self.name=name\n",
    "        \n",
    "        \n",
    "        "
   ]
  },
  {
   "cell_type": "code",
   "execution_count": 27,
   "id": "50684dd2",
   "metadata": {},
   "outputs": [],
   "source": [
    "s1=Student(\"aya\")"
   ]
  },
  {
   "cell_type": "code",
   "execution_count": 30,
   "id": "be09d93a",
   "metadata": {},
   "outputs": [],
   "source": [
    "class clc:\n",
    "    def __init__(self, num1,num2):\n",
    "        self.num1=num1\n",
    "        self.num2=num2\n",
    "    def addition(self):\n",
    "        return self.num1+ self.num2\n",
    "    def multi(self):\n",
    "        return self.num1* self.num2\n",
    "    def devide(self):\n",
    "        return self.num1/self.num2\n",
    "    def sub(self):\n",
    "        return self.num1-self.num2\n",
    "        \n",
    "    "
   ]
  },
  {
   "cell_type": "code",
   "execution_count": 32,
   "id": "c32a00b5",
   "metadata": {},
   "outputs": [
    {
     "data": {
      "text/plain": [
       "-10"
      ]
     },
     "execution_count": 32,
     "metadata": {},
     "output_type": "execute_result"
    }
   ],
   "source": [
    "c1=clc(20,30)\n",
    "c1.sub()"
   ]
  },
  {
   "cell_type": "code",
   "execution_count": null,
   "id": "7c632662",
   "metadata": {},
   "outputs": [],
   "source": []
  },
  {
   "cell_type": "code",
   "execution_count": 36,
   "id": "967ef4a7",
   "metadata": {},
   "outputs": [],
   "source": [
    "from abc import  ABC, abstractmethod\n",
    "class animal(ABC):\n",
    "    @abstractmethod\n",
    "    def mofe(self):\n",
    "        pass\n",
    "     \n",
    "class Bride(animal):\n",
    "    def move(self):\n",
    "        print(\"move frome animal\")\n",
    "        \n",
    "class cat(animal):\n",
    "    def move(self):\n",
    "        print(\"move from animal\")"
   ]
  },
  {
   "cell_type": "code",
   "execution_count": null,
   "id": "4c47069e",
   "metadata": {},
   "outputs": [],
   "source": [
    "a=Bride()\n",
    "a.move()"
   ]
  },
  {
   "cell_type": "code",
   "execution_count": null,
   "id": "2372213b",
   "metadata": {},
   "outputs": [],
   "source": [
    "class car:\n",
    "    #privite atribute\n",
    "    __engine__capacity=\"200cc\"\n",
    "    def __start_engine(self):\n",
    "        print(\"Engine started\")"
   ]
  },
  {
   "cell_type": "code",
   "execution_count": 39,
   "id": "d47207ba",
   "metadata": {},
   "outputs": [],
   "source": [
    "c1=car"
   ]
  },
  {
   "cell_type": "code",
   "execution_count": 40,
   "id": "cbc2dad5",
   "metadata": {},
   "outputs": [
    {
     "ename": "AttributeError",
     "evalue": "type object 'car' has no attribute '__start_engine'",
     "output_type": "error",
     "traceback": [
      "\u001b[31m---------------------------------------------------------------------------\u001b[39m",
      "\u001b[31mAttributeError\u001b[39m                            Traceback (most recent call last)",
      "\u001b[36mCell\u001b[39m\u001b[36m \u001b[39m\u001b[32mIn[40]\u001b[39m\u001b[32m, line 1\u001b[39m\n\u001b[32m----> \u001b[39m\u001b[32m1\u001b[39m \u001b[43mc1\u001b[49m\u001b[43m.\u001b[49m\u001b[43m__start_engine\u001b[49m\n",
      "\u001b[31mAttributeError\u001b[39m: type object 'car' has no attribute '__start_engine'"
     ]
    }
   ],
   "source": [
    "c1.__start_engine"
   ]
  }
 ],
 "metadata": {
  "kernelspec": {
   "display_name": "Python 3",
   "language": "python",
   "name": "python3"
  },
  "language_info": {
   "codemirror_mode": {
    "name": "ipython",
    "version": 3
   },
   "file_extension": ".py",
   "mimetype": "text/x-python",
   "name": "python",
   "nbconvert_exporter": "python",
   "pygments_lexer": "ipython3",
   "version": "3.12.9"
  }
 },
 "nbformat": 4,
 "nbformat_minor": 5
}
